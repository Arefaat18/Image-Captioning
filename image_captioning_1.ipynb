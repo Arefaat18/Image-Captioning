{
  "nbformat": 4,
  "nbformat_minor": 0,
  "metadata": {
    "colab": {
      "name": "image_captioning_1.ipynb",
      "provenance": [],
      "collapsed_sections": [],
      "toc_visible": true,
      "include_colab_link": true
    },
    "kernelspec": {
      "display_name": "Python 3",
      "name": "python3"
    },
    "accelerator": "GPU"
  },
  "cells": [
    {
      "cell_type": "markdown",
      "metadata": {
        "id": "view-in-github",
        "colab_type": "text"
      },
      "source": [
        "<a href=\"https://colab.research.google.com/github/Arefaat18/Image-Captioning/blob/master/image_captioning_1.ipynb\" target=\"_parent\"><img src=\"https://colab.research.google.com/assets/colab-badge.svg\" alt=\"Open In Colab\"/></a>"
      ]
    },
    {
      "cell_type": "code",
      "metadata": {
        "colab_type": "code",
        "id": "U8l4RJ0XRPEm",
        "colab": {}
      },
      "source": [
        "import tensorflow as tf\n",
        " \n",
        "# You'll generate plots of attention in order to see which parts of an image\n",
        "# our model focuses on during captioning\n",
        "import matplotlib.pyplot as plt\n",
        " \n",
        "# Scikit-learn includes many helpful utilities\n",
        "from sklearn.model_selection import train_test_split\n",
        "from sklearn.utils import shuffle\n",
        " \n",
        "import re\n",
        "import numpy as np\n",
        "import os\n",
        "import time\n",
        "import json\n",
        "from glob import glob\n",
        "from PIL import Image\n",
        "import pickle\n",
        "import nltk\n",
        "from tensorflow.keras.applications.resnet50 import ResNet50\n",
        "from tensorflow.keras.preprocessing import image\n",
        "from tensorflow.keras.applications.resnet50 import preprocess_input, decode_predictions"
      ],
      "execution_count": null,
      "outputs": []
    },
    {
      "cell_type": "code",
      "metadata": {
        "id": "yt8QTje8pzw1",
        "colab_type": "code",
        "colab": {
          "base_uri": "https://localhost:8080/",
          "height": 1000
        },
        "outputId": "3ac42085-5bcc-4ec6-d999-fb55d651aa86"
      },
      "source": [
        "!git init\n",
        "!git config — global user.email \"ahmedrefaat0108@gmail.com\"\n",
        "!git config — global user.name \"Arefaat18\"\n",
        "!git commit -m \"first commit\"\n",
        "!git remote add origin https://<Arefaat18>:<pRIDLABL6.>ahmedrefaat0108@gmail.com/<Arefaat18>/Image-Captioning.git\n",
        "!git push -u origin master"
      ],
      "execution_count": null,
      "outputs": [
        {
          "output_type": "stream",
          "text": [
            "Reinitialized existing Git repository in /content/.git/\n",
            "usage: git config [<options>]\n",
            "\n",
            "Config file location\n",
            "    --global              use global config file\n",
            "    --system              use system config file\n",
            "    --local               use repository config file\n",
            "    -f, --file <file>     use given config file\n",
            "    --blob <blob-id>      read config from given blob object\n",
            "\n",
            "Action\n",
            "    --get                 get value: name [value-regex]\n",
            "    --get-all             get all values: key [value-regex]\n",
            "    --get-regexp          get values for regexp: name-regex [value-regex]\n",
            "    --get-urlmatch        get value specific for the URL: section[.var] URL\n",
            "    --replace-all         replace all matching variables: name value [value_regex]\n",
            "    --add                 add a new variable: name value\n",
            "    --unset               remove a variable: name [value-regex]\n",
            "    --unset-all           remove all matches: name [value-regex]\n",
            "    --rename-section      rename section: old-name new-name\n",
            "    --remove-section      remove a section: name\n",
            "    -l, --list            list all\n",
            "    -e, --edit            open an editor\n",
            "    --get-color           find the color configured: slot [default]\n",
            "    --get-colorbool       find the color setting: slot [stdout-is-tty]\n",
            "\n",
            "Type\n",
            "    --bool                value is \"true\" or \"false\"\n",
            "    --int                 value is decimal number\n",
            "    --bool-or-int         value is --bool or --int\n",
            "    --path                value is a path (file or directory name)\n",
            "    --expiry-date         value is an expiry date\n",
            "\n",
            "Other\n",
            "    -z, --null            terminate values with NUL byte\n",
            "    --name-only           show variable names only\n",
            "    --includes            respect include directives on lookup\n",
            "    --show-origin         show origin of config (file, standard input, blob, command line)\n",
            "\n",
            "usage: git config [<options>]\n",
            "\n",
            "Config file location\n",
            "    --global              use global config file\n",
            "    --system              use system config file\n",
            "    --local               use repository config file\n",
            "    -f, --file <file>     use given config file\n",
            "    --blob <blob-id>      read config from given blob object\n",
            "\n",
            "Action\n",
            "    --get                 get value: name [value-regex]\n",
            "    --get-all             get all values: key [value-regex]\n",
            "    --get-regexp          get values for regexp: name-regex [value-regex]\n",
            "    --get-urlmatch        get value specific for the URL: section[.var] URL\n",
            "    --replace-all         replace all matching variables: name value [value_regex]\n",
            "    --add                 add a new variable: name value\n",
            "    --unset               remove a variable: name [value-regex]\n",
            "    --unset-all           remove all matches: name [value-regex]\n",
            "    --rename-section      rename section: old-name new-name\n",
            "    --remove-section      remove a section: name\n",
            "    -l, --list            list all\n",
            "    -e, --edit            open an editor\n",
            "    --get-color           find the color configured: slot [default]\n",
            "    --get-colorbool       find the color setting: slot [stdout-is-tty]\n",
            "\n",
            "Type\n",
            "    --bool                value is \"true\" or \"false\"\n",
            "    --int                 value is decimal number\n",
            "    --bool-or-int         value is --bool or --int\n",
            "    --path                value is a path (file or directory name)\n",
            "    --expiry-date         value is an expiry date\n",
            "\n",
            "Other\n",
            "    -z, --null            terminate values with NUL byte\n",
            "    --name-only           show variable names only\n",
            "    --includes            respect include directives on lookup\n",
            "    --show-origin         show origin of config (file, standard input, blob, command line)\n",
            "\n",
            "\n",
            "*** Please tell me who you are.\n",
            "\n",
            "Run\n",
            "\n",
            "  git config --global user.email \"you@example.com\"\n",
            "  git config --global user.name \"Your Name\"\n",
            "\n",
            "to set your account's default identity.\n",
            "Omit --global to set the identity only in this repository.\n",
            "\n",
            "fatal: unable to auto-detect email address (got 'root@13ca895d08f4.(none)')\n",
            "/bin/bash: Arefaat18: No such file or directory\n",
            "error: src refspec master does not match any.\n",
            "error: failed to push some refs to 'origin'\n"
          ],
          "name": "stdout"
        }
      ]
    },
    {
      "cell_type": "markdown",
      "metadata": {
        "colab_type": "text",
        "id": "b6qbGw8MRPE5"
      },
      "source": [
        "## Download and prepare the MS-COCO dataset\n",
        "\n",
        "You will use the [MS-COCO dataset](http://cocodataset.org/#home) to train our model. The dataset contains over 82,000 images, each of which has at least 5 different caption annotations. The code below downloads and extracts the dataset automatically.\n",
        "\n",
        "**Caution: large download ahead**. You'll use the training set, which is a 13GB file."
      ]
    },
    {
      "cell_type": "code",
      "metadata": {
        "colab_type": "code",
        "id": "krQuPYTtRPE7",
        "colab": {
          "base_uri": "https://localhost:8080/",
          "height": 50
        },
        "outputId": "55c3dc48-cc28-425f-8048-c3a39a3d435e"
      },
      "source": [
        "# Download caption annotation files\n",
        "annotation_folder = '/annotations/'\n",
        "if not os.path.exists(os.path.abspath('.') + annotation_folder):\n",
        "  annotation_zip = tf.keras.utils.get_file('captions.zip',\n",
        "                                          cache_subdir=os.path.abspath('.'),\n",
        "                                          origin = 'http://images.cocodataset.org/annotations/annotations_trainval2014.zip',\n",
        "                                          extract = True)\n",
        "  annotation_file = os.path.dirname(annotation_zip)+'/annotations/captions_train2014.json'\n",
        "  os.remove(annotation_zip)\n",
        "\n",
        "# Download image files\n",
        "image_folder = '/train2014/'\n",
        "if not os.path.exists(os.path.abspath('.') + image_folder):\n",
        "  image_zip = tf.keras.utils.get_file('train2014.zip',\n",
        "                                      cache_subdir=os.path.abspath('.'),\n",
        "                                      origin = 'http://images.cocodataset.org/zips/train2014.zip',\n",
        "                                      extract = True)\n",
        "  PATH = os.path.dirname(image_zip) + image_folder\n",
        "  os.remove(image_zip)\n",
        "else:\n",
        "  PATH = os.path.abspath('.') + image_folder"
      ],
      "execution_count": null,
      "outputs": [
        {
          "output_type": "stream",
          "text": [
            "Downloading data from http://images.cocodataset.org/zips/train2014.zip\n",
            "13510574080/13510573713 [==============================] - 937s 0us/step\n"
          ],
          "name": "stdout"
        }
      ]
    },
    {
      "cell_type": "markdown",
      "metadata": {
        "colab_type": "text",
        "id": "aANEzb5WwSzg"
      },
      "source": [
        "## Optional: limit the size of the training set \n",
        "To speed up training for this tutorial, you'll use a subset of 30,000 captions and their corresponding images to train our model. Choosing to use more data would result in improved captioning quality."
      ]
    },
    {
      "cell_type": "code",
      "metadata": {
        "colab_type": "code",
        "id": "4G3b8x8_RPFD",
        "colab": {}
      },
      "source": [
        "# Read the json file\n",
        "with open(annotation_file, 'r') as f:\n",
        "    annotations = json.load(f)\n",
        "\n",
        "# Store captions and image names in vectors\n",
        "all_captions = []\n",
        "all_img_name_vector = []\n",
        "\n",
        "for annot in annotations['annotations']:\n",
        "    caption = '<start> ' + annot['caption'] + ' <end>'\n",
        "    image_id = annot['image_id']\n",
        "    full_coco_image_path = PATH + 'COCO_train2014_' + '%012d.jpg' % (image_id)\n",
        "\n",
        "    all_img_name_vector.append(full_coco_image_path)\n",
        "    all_captions.append(caption)\n",
        "\n",
        "# Shuffle captions and image_names together\n",
        "# Set a random state\n",
        "train_captions, img_name_vector = shuffle(all_captions,\n",
        "                                          all_img_name_vector,\n",
        "                                          random_state=1)\n",
        "\n",
        "# Select the first 30000 captions from the shuffled set\n",
        "num_examples = 30000\n",
        "train_captions = train_captions[:num_examples]\n",
        "img_name_vector = img_name_vector[:num_examples]"
      ],
      "execution_count": null,
      "outputs": []
    },
    {
      "cell_type": "code",
      "metadata": {
        "colab_type": "code",
        "id": "mPBMgK34RPFL",
        "colab": {
          "base_uri": "https://localhost:8080/",
          "height": 34
        },
        "outputId": "4ed235a5-268b-4b84-ea5c-7aab92ec6093"
      },
      "source": [
        "len(train_captions), len(all_captions)"
      ],
      "execution_count": null,
      "outputs": [
        {
          "output_type": "execute_result",
          "data": {
            "text/plain": [
              "(30000, 414113)"
            ]
          },
          "metadata": {
            "tags": []
          },
          "execution_count": 6
        }
      ]
    },
    {
      "cell_type": "markdown",
      "metadata": {
        "colab_type": "text",
        "id": "8cSW4u-ORPFQ"
      },
      "source": [
        "## Preprocess the images using the architectures\n"
      ]
    },
    {
      "cell_type": "code",
      "metadata": {
        "colab_type": "code",
        "id": "zXR0217aRPFR",
        "colab": {}
      },
      "source": [
        "def load_image_inception(image_path):\n",
        "    img = tf.io.read_file(image_path)\n",
        "    img = tf.image.decode_jpeg(img, channels=3)\n",
        "    img = tf.image.resize(img, (299, 299))\n",
        "    img = tf.keras.applications.inception_v3.preprocess_input(img)\n",
        "    return img, image_path"
      ],
      "execution_count": null,
      "outputs": []
    },
    {
      "cell_type": "code",
      "metadata": {
        "id": "gXqjZjOhH3Le",
        "colab_type": "code",
        "colab": {}
      },
      "source": [
        "def load_image_resnet(image_path):\n",
        "    img = tf.io.read_file(image_path)\n",
        "    img = tf.image.decode_jpeg(img, channels=3)\n",
        "    img = tf.image.resize(img, (224, 224))\n",
        "    img = tf.keras.applications.resnet50.preprocess_input(img)\n",
        "    return img, image_path"
      ],
      "execution_count": null,
      "outputs": []
    },
    {
      "cell_type": "code",
      "metadata": {
        "id": "RYi5dGfKXTgw",
        "colab_type": "code",
        "colab": {}
      },
      "source": [
        "def load_image_mobilenet(image_path):\n",
        "    img = tf.io.read_file(image_path)\n",
        "    img = tf.image.decode_jpeg(img, channels=3)\n",
        "    img = tf.image.resize(img, (224, 224))\n",
        "    img = tf.keras.applications.mobilenet.preprocess_input(img)\n",
        "    return img, image_path"
      ],
      "execution_count": null,
      "outputs": []
    },
    {
      "cell_type": "code",
      "metadata": {
        "id": "vxi7Ls2iZFGP",
        "colab_type": "code",
        "colab": {}
      },
      "source": [
        "def load_image_vgg(image_path):\n",
        "  img = tf.io.read_file(image_path)\n",
        "  img = tf.image.decode_jpeg(img, channels=3)\n",
        "  img = tf.image.resize(img, (224, 224))\n",
        "  img = tf.keras.applications.vgg16.preprocess_input(img)\n",
        "  print(img)\n",
        "\n",
        "  return img, image_path"
      ],
      "execution_count": null,
      "outputs": []
    },
    {
      "cell_type": "markdown",
      "metadata": {
        "colab_type": "text",
        "id": "MDvIu4sXRPFV"
      },
      "source": [
        "## Initialize the architectures and load the pretrained Imagenet weights\n",
        "\n",
        "\n",
        "* You forward each image through the network and store the resulting vector in a dictionary (image_name --> feature_vector).\n",
        "* After all the images are passed through the network, you pickle the dictionary and save it to disk.\n"
      ]
    },
    {
      "cell_type": "code",
      "metadata": {
        "colab_type": "code",
        "id": "RD3vW4SsRPFW",
        "colab": {
          "base_uri": "https://localhost:8080/",
          "height": 104
        },
        "outputId": "21798975-051f-4895-f297-b5397d2d3cb3"
      },
      "source": [
        "#InceptionV3\n",
        "image_model_inception = tf.keras.applications.InceptionV3(include_top=False,\n",
        "                                                weights='imagenet')\n",
        "new_input_inception = image_model_inception.input\n",
        "hidden_layer_inception = image_model_inception.layers[-1].output\n",
        "print(new_input_inception.shape)\n",
        "print(hidden_layer_inception.shape)\n",
        "image_features_extract_model_inception = tf.keras.Model(new_input_inception, hidden_layer_inception)"
      ],
      "execution_count": null,
      "outputs": [
        {
          "output_type": "stream",
          "text": [
            "Downloading data from https://storage.googleapis.com/tensorflow/keras-applications/inception_v3/inception_v3_weights_tf_dim_ordering_tf_kernels_notop.h5\n",
            "87916544/87910968 [==============================] - 2s 0us/step\n",
            "(None, None, None, 3)\n",
            "(None, None, None, 2048)\n"
          ],
          "name": "stdout"
        }
      ]
    },
    {
      "cell_type": "code",
      "metadata": {
        "id": "IUB9vrpPXssO",
        "colab_type": "code",
        "colab": {
          "base_uri": "https://localhost:8080/",
          "height": 104
        },
        "outputId": "ae9759e5-f3a6-4818-efda-3811310ae156"
      },
      "source": [
        "#MobileNet\n",
        "image_model_mobilenet = tf.keras.applications.MobileNet(include_top=False,\n",
        "                                                weights='imagenet')\n",
        "new_input_mobilenet = image_model_mobilenet.input\n",
        "hidden_layer_mobilenet = image_model_mobilenet.layers[-14].output\n",
        "print(hidden_layer_mobilenet.shape)\n",
        "image_features_extract_model_mobilenet = tf.keras.Model(new_input_mobilenet, hidden_layer_mobilenet)"
      ],
      "execution_count": null,
      "outputs": [
        {
          "output_type": "stream",
          "text": [
            "WARNING:tensorflow:`input_shape` is undefined or non-square, or `rows` is not in [128, 160, 192, 224]. Weights for input shape (224, 224) will be loaded as the default.\n",
            "Downloading data from https://storage.googleapis.com/tensorflow/keras-applications/mobilenet/mobilenet_1_0_224_tf_no_top.h5\n",
            "17227776/17225924 [==============================] - 0s 0us/step\n",
            "(None, None, None, 512)\n"
          ],
          "name": "stdout"
        }
      ]
    },
    {
      "cell_type": "code",
      "metadata": {
        "id": "i3TfU--SL2Pz",
        "colab_type": "code",
        "colab": {
          "base_uri": "https://localhost:8080/",
          "height": 101
        },
        "outputId": "53ad1d49-a288-48de-be04-070ef1d5a40e"
      },
      "source": [
        "#Resnet50\n",
        "image_model_resnet = tf.keras.applications.resnet.ResNet50(include_top=False,\n",
        "                                                weights='imagenet')\n",
        "new_input_resnet = image_model_resnet.input\n",
        "hidden_layer_resnet = image_model_resnet.layers[-33].output\n",
        "print(len(image_model_resnet.layers))\n",
        "print(new_input_resnet.shape)\n",
        "print(hidden_layer_resnet.shape)\n",
        "image_features_extract_model_resnet = tf.keras.Model(new_input_resnet, hidden_layer_resnet)"
      ],
      "execution_count": null,
      "outputs": [
        {
          "output_type": "stream",
          "text": [
            "Downloading data from https://storage.googleapis.com/tensorflow/keras-applications/resnet/resnet50_weights_tf_dim_ordering_tf_kernels_notop.h5\n",
            "94773248/94765736 [==============================] - 2s 0us/step\n",
            "175\n",
            "(None, None, None, 3)\n",
            "(None, None, None, 1024)\n"
          ],
          "name": "stdout"
        }
      ]
    },
    {
      "cell_type": "code",
      "metadata": {
        "id": "48-u-8T2ZIQ4",
        "colab_type": "code",
        "colab": {
          "base_uri": "https://localhost:8080/",
          "height": 101
        },
        "outputId": "3a603e39-14a4-4e30-a629-4d1d90a667ee"
      },
      "source": [
        "#VGG\n",
        "image_model_vgg = tf.keras.applications.VGG16(include_top=False,\n",
        "                                                weights='imagenet')\n",
        "new_input_vgg = image_model_vgg.input\n",
        "print(new_input_vgg.shape)\n",
        "hidden_layer_vgg = image_model_vgg.layers[-2].output\n",
        "print(hidden_layer_vgg.shape)\n",
        "\n",
        "image_features_extract_model_vgg = tf.keras.Model(new_input_vgg, hidden_layer_vgg)\n",
        "print(image_features_extract_model_vgg)\n"
      ],
      "execution_count": null,
      "outputs": [
        {
          "output_type": "stream",
          "text": [
            "Downloading data from https://storage.googleapis.com/tensorflow/keras-applications/vgg16/vgg16_weights_tf_dim_ordering_tf_kernels_notop.h5\n",
            "58892288/58889256 [==============================] - 2s 0us/step\n",
            "(None, None, None, 3)\n",
            "(None, None, None, 512)\n",
            "<tensorflow.python.keras.engine.training.Model object at 0x7f21cc8fc630>\n"
          ],
          "name": "stdout"
        }
      ]
    },
    {
      "cell_type": "markdown",
      "metadata": {
        "colab_type": "text",
        "id": "rERqlR3WRPGO"
      },
      "source": [
        "## Caching the features extracted from each architecture\n"
      ]
    },
    {
      "cell_type": "code",
      "metadata": {
        "colab_type": "code",
        "id": "Dx_fvbVgRPGQ",
        "colab": {}
      },
      "source": [
        "# Get unique images\n",
        "encode_train = sorted(set(img_name_vector))\n",
        "\n"
      ],
      "execution_count": null,
      "outputs": []
    },
    {
      "cell_type": "code",
      "metadata": {
        "id": "vHyRMQvwSNZ2",
        "colab_type": "code",
        "colab": {}
      },
      "source": [
        "#Inception\n",
        "def inception_model():\n",
        "  print(\"INCEPTION MODEL\")\n",
        "  # Feel free to change batch_size according to your system configuration\n",
        "  image_dataset_inception = tf.data.Dataset.from_tensor_slices(encode_train)\n",
        "  image_dataset_inception = image_dataset_inception.map(\n",
        "    load_image_inception, num_parallel_calls=tf.data.experimental.AUTOTUNE).batch(16)\n",
        "  \n",
        "  first = False\n",
        "  for img, path in image_dataset_inception:\n",
        "    batch_features_inception = image_features_extract_model_inception(img)\n",
        "    if first==False:\n",
        "      print(batch_features_inception.shape)\n",
        "      first = True\n",
        "    batch_features_inception = tf.reshape(batch_features_inception,\n",
        "                                (batch_features_inception.shape[0], -1, batch_features_inception.shape[3]))\n",
        "\n",
        "    for bf, p in zip(batch_features_inception, path):\n",
        "      path_of_feature = p.numpy().decode(\"utf-8\")\n",
        "      np.save(path_of_feature, bf.numpy())"
      ],
      "execution_count": null,
      "outputs": []
    },
    {
      "cell_type": "code",
      "metadata": {
        "id": "-neAzsOASNNh",
        "colab_type": "code",
        "colab": {}
      },
      "source": [
        "#Resnet\n",
        "def resnet_model():\n",
        "  image_dataset_resnet = tf.data.Dataset.from_tensor_slices(encode_train)\n",
        "  image_dataset_resnet = image_dataset_resnet.map(\n",
        "    load_image_resnet, num_parallel_calls=tf.data.experimental.AUTOTUNE).batch(16)\n",
        "\n",
        "  first = False\n",
        "  for img, path in image_dataset_resnet:\n",
        "    batch_features_resnet = image_features_extract_model_resnet(img)\n",
        "    if first==False:\n",
        "      print(batch_features_resnet.shape)\n",
        "      first = True\n",
        "    batch_features_resnet = tf.reshape(batch_features_resnet,\n",
        "                                (batch_features_resnet.shape[0], -1, batch_features_resnet.shape[3]))\n",
        "\n",
        "    for bf, p in zip(batch_features_resnet, path):\n",
        "      path_of_feature = p.numpy().decode(\"utf-8\")\n",
        "      np.save(path_of_feature, bf.numpy())"
      ],
      "execution_count": null,
      "outputs": []
    },
    {
      "cell_type": "code",
      "metadata": {
        "id": "dQFidLxRX02h",
        "colab_type": "code",
        "colab": {}
      },
      "source": [
        "#MobileNet\n",
        "def mobilenet_model():\n",
        "  image_dataset_mobilenet = tf.data.Dataset.from_tensor_slices(encode_train)\n",
        "  image_dataset_mobilenet = image_dataset_mobilenet.map(\n",
        "    load_image_mobilenet, num_parallel_calls=tf.data.experimental.AUTOTUNE).batch(16)\n",
        "\n",
        "  first=False\n",
        "  for img, path in image_dataset_mobilenet:\n",
        "    batch_features_mobilenet = image_features_extract_model_mobilenet(img)\n",
        "    if first==False:\n",
        "      print(batch_features_mobilenet.shape)\n",
        "      first = True\n",
        "\n",
        "    batch_features_mobilenet = tf.reshape(batch_features_mobilenet,\n",
        "                                (batch_features_mobilenet.shape[0], -1, batch_features_mobilenet.shape[3]))\n",
        "\n",
        "    for bf, p in zip(batch_features_mobilenet, path):\n",
        "      path_of_feature = p.numpy().decode(\"utf-8\")\n",
        "      np.save(path_of_feature, bf.numpy())"
      ],
      "execution_count": null,
      "outputs": []
    },
    {
      "cell_type": "code",
      "metadata": {
        "id": "rgNnLhaWZad4",
        "colab_type": "code",
        "colab": {}
      },
      "source": [
        "#VGG\n",
        "def vgg_model():\n",
        "  image_dataset_vgg = tf.data.Dataset.from_tensor_slices(encode_train)\n",
        "  image_dataset_vgg = image_dataset_vgg.map(\n",
        "    load_image_vgg, num_parallel_calls=tf.data.experimental.AUTOTUNE).batch(16)\n",
        "\n",
        "  first=False\n",
        "  for img, path in image_dataset_vgg:\n",
        "    batch_features_vgg = image_features_extract_model_vgg(img)\n",
        "    if first==False:\n",
        "      print(batch_features_vgg.shape)\n",
        "      first = True\n",
        "      \n",
        "    batch_features_vgg = tf.reshape(batch_features_vgg,\n",
        "                                (batch_features_vgg.shape[0], -1, batch_features_vgg.shape[3]))\n",
        "    for bf, p in zip(batch_features_vgg, path):\n",
        "      path_of_feature = p.numpy().decode(\"utf-8\")\n",
        "      np.save(path_of_feature, bf.numpy())"
      ],
      "execution_count": null,
      "outputs": []
    },
    {
      "cell_type": "markdown",
      "metadata": {
        "colab_type": "text",
        "id": "nyqH3zFwRPFi"
      },
      "source": [
        "## Preprocess and tokenize the captions\n",
        "\n",
        "* First, you'll tokenize the captions (for example, by splitting on spaces). This gives us a  vocabulary of all of the unique words in the data (for example, \"surfing\", \"football\", and so on).\n",
        "* Next, you'll limit the vocabulary size to the top 5,000 words (to save memory). You'll replace all other words with the token \"UNK\" (unknown).\n",
        "* You then create word-to-index and index-to-word mappings.\n",
        "* Finally, you pad all sequences to be the same length as the longest one."
      ]
    },
    {
      "cell_type": "code",
      "metadata": {
        "colab_type": "code",
        "id": "HZfK8RhQRPFj",
        "colab": {}
      },
      "source": [
        "# Find the maximum length of any caption in our dataset\n",
        "def calc_max_length(tensor):\n",
        "    return max(len(t) for t in tensor)"
      ],
      "execution_count": null,
      "outputs": []
    },
    {
      "cell_type": "code",
      "metadata": {
        "colab_type": "code",
        "id": "oJGE34aiRPFo",
        "colab": {}
      },
      "source": [
        "# Choose the top 5000 words from the vocabulary\n",
        "top_k = 5000\n",
        "tokenizer = tf.keras.preprocessing.text.Tokenizer(num_words=top_k,\n",
        "                                                  oov_token=\"<unk>\",\n",
        "                                                  filters='!\"#$%&()*+.,-/:;=?@[\\]^_`{|}~ ')\n",
        "tokenizer.fit_on_texts(train_captions)\n",
        "train_seqs = tokenizer.texts_to_sequences(train_captions)"
      ],
      "execution_count": null,
      "outputs": []
    },
    {
      "cell_type": "code",
      "metadata": {
        "colab_type": "code",
        "id": "8Q44tNQVRPFt",
        "colab": {}
      },
      "source": [
        "tokenizer.word_index['<pad>'] = 0\n",
        "tokenizer.index_word[0] = '<pad>'"
      ],
      "execution_count": null,
      "outputs": []
    },
    {
      "cell_type": "code",
      "metadata": {
        "colab_type": "code",
        "id": "0fpJb5ojRPFv",
        "colab": {}
      },
      "source": [
        "# Create the tokenized vectors\n",
        "train_seqs = tokenizer.texts_to_sequences(train_captions)"
      ],
      "execution_count": null,
      "outputs": []
    },
    {
      "cell_type": "code",
      "metadata": {
        "colab_type": "code",
        "id": "AidglIZVRPF4",
        "colab": {}
      },
      "source": [
        "# Pad each vector to the max_length of the captions\n",
        "# If you do not provide a max_length value, pad_sequences calculates it automatically\n",
        "cap_vector = tf.keras.preprocessing.sequence.pad_sequences(train_seqs, padding='post')"
      ],
      "execution_count": null,
      "outputs": []
    },
    {
      "cell_type": "code",
      "metadata": {
        "colab_type": "code",
        "id": "gL0wkttkRPGA",
        "colab": {}
      },
      "source": [
        "# Calculates the max_length, which is used to store the attention weights\n",
        "max_length = calc_max_length(train_seqs)"
      ],
      "execution_count": null,
      "outputs": []
    },
    {
      "cell_type": "markdown",
      "metadata": {
        "colab_type": "text",
        "id": "M3CD75nDpvTI"
      },
      "source": [
        "## Split the data into training and testing"
      ]
    },
    {
      "cell_type": "code",
      "metadata": {
        "colab_type": "code",
        "id": "iS7DDMszRPGF",
        "colab": {}
      },
      "source": [
        "# Create training and validation sets using an 80-20 split\n",
        "img_name_train, img_name_val, cap_train, cap_val = train_test_split(img_name_vector,\n",
        "                                                                    cap_vector,\n",
        "                                                                    test_size=0.2,\n",
        "                                                                    random_state=0)"
      ],
      "execution_count": null,
      "outputs": []
    },
    {
      "cell_type": "code",
      "metadata": {
        "colab_type": "code",
        "id": "XmViPkRFRPGH",
        "colab": {
          "base_uri": "https://localhost:8080/",
          "height": 34
        },
        "outputId": "d7fa6aab-47aa-46f7-8c07-76b6552bc2eb"
      },
      "source": [
        "len(img_name_train), len(cap_train), len(img_name_val), len(cap_val)"
      ],
      "execution_count": null,
      "outputs": [
        {
          "output_type": "execute_result",
          "data": {
            "text/plain": [
              "(24000, 24000, 6000, 6000)"
            ]
          },
          "metadata": {
            "tags": []
          },
          "execution_count": 27
        }
      ]
    },
    {
      "cell_type": "markdown",
      "metadata": {
        "colab_type": "text",
        "id": "uEWM9xrYcg45"
      },
      "source": [
        "## Create a tf.data dataset for training\n"
      ]
    },
    {
      "cell_type": "markdown",
      "metadata": {
        "colab_type": "text",
        "id": "horagNvhhZiy"
      },
      "source": [
        " Our images and captions are ready! Next, let's create a tf.data dataset to use for training our model."
      ]
    },
    {
      "cell_type": "code",
      "metadata": {
        "colab_type": "code",
        "id": "Q3TnZ1ToRPGV",
        "colab": {}
      },
      "source": [
        "# Feel free to change these parameters according to your system's configuration\n",
        "\n",
        "BATCH_SIZE = 64\n",
        "BUFFER_SIZE = 1000\n",
        "embedding_dim = 256\n",
        "units = 512\n",
        "vocab_size = top_k + 1\n",
        "num_steps = len(img_name_train) // BATCH_SIZE\n",
        "\n",
        "# Shape of the vector extracted from InceptionV3 is (64, 2048)\n",
        "# These two variables represent that vector shape\n",
        "features_shape_inception = 2048\n",
        "attention_features_shape_inception = 64\n",
        "# Shape of the vector extracted from Resnet50 is (196, 1024)\n",
        "# These two variables represent that vector shape\n",
        "features_shape_resnet = 1024\n",
        "attention_features_shape_resnet = 196\n",
        "# Shape of the vector extracted from MobileNet is (196, 512)\n",
        "# These two variables represent that vector shape\n",
        "features_shape_mobilenet = 512\n",
        "attention_features_shape_mobilenet = 196\n",
        "# Shape of the vector extracted from VGG is (196, 512)\n",
        "# These two variables represent that vector shape\n",
        "features_shape_vgg = 512\n",
        "attention_features_shape_vgg = 196"
      ],
      "execution_count": null,
      "outputs": []
    },
    {
      "cell_type": "code",
      "metadata": {
        "colab_type": "code",
        "id": "SmZS2N0bXG3T",
        "colab": {}
      },
      "source": [
        "# Load the numpy files\n",
        "def map_func(img_name, cap):\n",
        "  img_tensor = np.load(img_name.decode('utf-8')+'.npy')\n",
        "  return img_tensor, cap"
      ],
      "execution_count": null,
      "outputs": []
    },
    {
      "cell_type": "code",
      "metadata": {
        "colab_type": "code",
        "id": "FDF_Nm3tRPGZ",
        "colab": {}
      },
      "source": [
        "def load_dataset():\n",
        "  dataset = tf.data.Dataset.from_tensor_slices((img_name_train, cap_train))\n",
        "\n",
        "  # Use map to load the numpy files in parallel\n",
        "  dataset = dataset.map(lambda item1, item2: tf.numpy_function(\n",
        "            map_func, [item1, item2], [tf.float32, tf.int32]),\n",
        "            num_parallel_calls=tf.data.experimental.AUTOTUNE)\n",
        "\n",
        "  print(dataset)\n",
        "\n",
        "  # Shuffle and batch\n",
        "  dataset = dataset.shuffle(BUFFER_SIZE).batch(BATCH_SIZE)\n",
        "  dataset = dataset.prefetch(buffer_size=tf.data.experimental.AUTOTUNE)\n",
        "  print(\"LOAD DATASET\")\n",
        "  return dataset"
      ],
      "execution_count": null,
      "outputs": []
    },
    {
      "cell_type": "markdown",
      "metadata": {
        "colab_type": "text",
        "id": "nrvoDphgRPGd"
      },
      "source": [
        "## Model\n",
        "\n",
        "Fun fact: the decoder below is identical to the one in the example for [Neural Machine Translation with Attention](../sequences/nmt_with_attention.ipynb).\n",
        "\n",
        "The model architecture is inspired by the [Show, Attend and Tell](https://arxiv.org/pdf/1502.03044.pdf) paper.\n"
      ]
    },
    {
      "cell_type": "code",
      "metadata": {
        "colab_type": "code",
        "id": "ja2LFTMSdeV3",
        "colab": {}
      },
      "source": [
        "class BahdanauAttention(tf.keras.Model):\n",
        "  def __init__(self, units):\n",
        "    super(BahdanauAttention, self).__init__()\n",
        "    self.W1 = tf.keras.layers.Dense(units)\n",
        "    self.W2 = tf.keras.layers.Dense(units)\n",
        "    self.V = tf.keras.layers.Dense(1)\n",
        "\n",
        "  def call(self, features, hidden):\n",
        "    # features(CNN_encoder output) shape == (batch_size, 64, embedding_dim)\n",
        "\n",
        "    # hidden shape == (batch_size, hidden_size)\n",
        "    # hidden_with_time_axis shape == (batch_size, 1, hidden_size)\n",
        "    hidden_with_time_axis = tf.expand_dims(hidden, 1)\n",
        "\n",
        "    # score shape == (batch_size, 64, hidden_size)\n",
        "    score = tf.nn.tanh(self.W1(features) + self.W2(hidden_with_time_axis))\n",
        "\n",
        "    # attention_weights shape == (batch_size, 64, 1)\n",
        "    # you get 1 at the last axis because you are applying score to self.V\n",
        "    attention_weights = tf.nn.softmax(self.V(score), axis=1)\n",
        "\n",
        "    # context_vector shape after sum == (batch_size, hidden_size)\n",
        "    context_vector = attention_weights * features\n",
        "    context_vector = tf.reduce_sum(context_vector, axis=1)\n",
        "\n",
        "    return context_vector, attention_weights"
      ],
      "execution_count": null,
      "outputs": []
    },
    {
      "cell_type": "code",
      "metadata": {
        "colab_type": "code",
        "id": "AZ7R1RxHRPGf",
        "colab": {}
      },
      "source": [
        "class CNN_Encoder(tf.keras.Model):\n",
        "    # Since you have already extracted the features and dumped it using pickle\n",
        "    # This encoder passes those features through a Fully connected layer\n",
        "    def __init__(self, embedding_dim):\n",
        "        super(CNN_Encoder, self).__init__()\n",
        "        # shape after fc == (batch_size, 64, embedding_dim)\n",
        "        self.fc = tf.keras.layers.Dense(embedding_dim)\n",
        "\n",
        "    def call(self, x):\n",
        "        x = self.fc(x)\n",
        "        x = tf.nn.relu(x)\n",
        "        return x"
      ],
      "execution_count": null,
      "outputs": []
    },
    {
      "cell_type": "code",
      "metadata": {
        "colab_type": "code",
        "id": "V9UbGQmERPGi",
        "colab": {}
      },
      "source": [
        "class RNN_Decoder(tf.keras.Model):\n",
        "  def __init__(self, embedding_dim, units, vocab_size):\n",
        "    super(RNN_Decoder, self).__init__()\n",
        "    self.units = units\n",
        "\n",
        "    self.embedding = tf.keras.layers.Embedding(vocab_size, embedding_dim)\n",
        "    self.gru = tf.keras.layers.GRU(self.units,\n",
        "                                   return_sequences=True,\n",
        "                                   return_state=True,\n",
        "                                   recurrent_initializer='glorot_uniform')\n",
        "    self.fc1 = tf.keras.layers.Dense(self.units)\n",
        "    self.fc2 = tf.keras.layers.Dense(vocab_size)\n",
        "    self.LSTM = tf.keras.layers.LSTM(self.units,return_sequences=True,return_state=True,recurrent_initializer='glorot_uniform')\n",
        "\n",
        "    self.attention = BahdanauAttention(self.units)\n",
        "\n",
        "  def call(self, x, features, hidden):\n",
        "    # defining attention as a separate model\n",
        "    context_vector, attention_weights = self.attention(features, hidden)\n",
        "\n",
        "    # x shape after passing through embedding == (batch_size, 1, embedding_dim)\n",
        "    x = self.embedding(x)\n",
        "\n",
        "    # x shape after concatenation == (batch_size, 1, embedding_dim + hidden_size)\n",
        "    x = tf.concat([tf.expand_dims(context_vector, 1), x], axis=-1)\n",
        "\n",
        "    # passing the concatenated vector to the GRU\n",
        "    output, state = self.gru(x)\n",
        "\n",
        "    # shape == (batch_size, max_length, hidden_size)\n",
        "    x = self.fc1(output)\n",
        "\n",
        "    # x shape == (batch_size * max_length, hidden_size)\n",
        "    x = tf.reshape(x, (-1, x.shape[2]))\n",
        "\n",
        "    # output shape == (batch_size * max_length, vocab)\n",
        "    x = self.fc2(x)\n",
        "\n",
        "    return x, state, attention_weights\n",
        "\n",
        "  def reset_state(self, batch_size):\n",
        "    return tf.zeros((batch_size, self.units))"
      ],
      "execution_count": null,
      "outputs": []
    },
    {
      "cell_type": "code",
      "metadata": {
        "colab_type": "code",
        "id": "Qs_Sr03wRPGk",
        "colab": {}
      },
      "source": [
        ""
      ],
      "execution_count": null,
      "outputs": []
    },
    {
      "cell_type": "code",
      "metadata": {
        "colab_type": "code",
        "id": "-bYN7xA0RPGl",
        "colab": {}
      },
      "source": [
        "def loss_function(real, pred,loss_object):\n",
        "  mask = tf.math.logical_not(tf.math.equal(real, 0))\n",
        "  loss_ = loss_object(real, pred)\n",
        "\n",
        "  mask = tf.cast(mask, dtype=loss_.dtype)\n",
        "  loss_ *= mask\n",
        "\n",
        "  return tf.reduce_mean(loss_)"
      ],
      "execution_count": null,
      "outputs": []
    },
    {
      "cell_type": "markdown",
      "metadata": {
        "colab_type": "text",
        "id": "6A3Ni64joyab"
      },
      "source": [
        "## Checkpoint"
      ]
    },
    {
      "cell_type": "code",
      "metadata": {
        "colab_type": "code",
        "id": "fUkbqhc_uObw",
        "colab": {}
      },
      "source": [
        "def checkpoint1():\n",
        "  encoder = CNN_Encoder(embedding_dim)\n",
        "  decoder = RNN_Decoder(embedding_dim, units, vocab_size)\n",
        "  optimizer = tf.keras.optimizers.Adam()\n",
        "  loss_object = tf.keras.losses.SparseCategoricalCrossentropy(\n",
        "    from_logits=True, reduction='none')\n",
        "  checkpoint_path = \"./checkpoints1/train\"\n",
        "  ckpt = tf.train.Checkpoint(encoder=encoder,\n",
        "                            decoder=decoder,\n",
        "                            optimizer = optimizer)\n",
        "  ckpt_manager = tf.train.CheckpointManager(ckpt, checkpoint_path, max_to_keep=5)\n",
        "  start_epoch = 0\n",
        "  if ckpt_manager.latest_checkpoint:\n",
        "    start_epoch = int(ckpt_manager.latest_checkpoint.split('-')[-1])\n",
        "    # restoring the latest checkpoint in checkpoint_path\n",
        "    ckpt.restore(ckpt_manager.latest_checkpoint)\n",
        "\n",
        "  # adding this in a separate cell because if you run the training cell\n",
        "  # many times, the loss_plot array will be reset\n",
        "  loss_plot = []\n",
        "\n",
        "  return ckpt_manager,start_epoch,loss_plot,encoder,decoder,optimizer,loss_object"
      ],
      "execution_count": null,
      "outputs": []
    },
    {
      "cell_type": "code",
      "metadata": {
        "colab_type": "code",
        "id": "PpJAqPMWo0uE",
        "colab": {}
      },
      "source": [
        "def checkpoint2():\n",
        "  encoder = CNN_Encoder(embedding_dim)\n",
        "  decoder = RNN_Decoder(embedding_dim, units, vocab_size)\n",
        "  optimizer = tf.keras.optimizers.Adam()\n",
        "  loss_object = tf.keras.losses.SparseCategoricalCrossentropy(\n",
        "    from_logits=True, reduction='none')\n",
        "  checkpoint_path = \"./checkpoints2/train\"\n",
        "  ckpt = tf.train.Checkpoint(encoder=encoder,\n",
        "                            decoder=decoder,\n",
        "                            optimizer = optimizer)\n",
        "  ckpt_manager = tf.train.CheckpointManager(ckpt, checkpoint_path, max_to_keep=5)\n",
        "  start_epoch = 0\n",
        "  if ckpt_manager.latest_checkpoint:\n",
        "    start_epoch = int(ckpt_manager.latest_checkpoint.split('-')[-1])\n",
        "    # restoring the latest checkpoint in checkpoint_path\n",
        "    ckpt.restore(ckpt_manager.latest_checkpoint)\n",
        "\n",
        "  # adding this in a separate cell because if you run the training cell\n",
        "  # many times, the loss_plot array will be reset\n",
        "  loss_plot = []\n",
        "\n",
        "  return ckpt_manager,start_epoch,loss_plot,encoder,decoder,optimizer,loss_object"
      ],
      "execution_count": null,
      "outputs": []
    },
    {
      "cell_type": "code",
      "metadata": {
        "colab_type": "code",
        "id": "Vt4WZ5mhJE-E",
        "colab": {}
      },
      "source": [
        "def checkpoint3():\n",
        "  encoder = CNN_Encoder(embedding_dim)\n",
        "  decoder = RNN_Decoder(embedding_dim, units, vocab_size)\n",
        "  optimizer = tf.keras.optimizers.Adam()\n",
        "  loss_object = tf.keras.losses.SparseCategoricalCrossentropy(\n",
        "    from_logits=True, reduction='none')\n",
        "  checkpoint_path = \"./checkpoints3/train\"\n",
        "  ckpt = tf.train.Checkpoint(encoder=encoder,\n",
        "                            decoder=decoder,\n",
        "                            optimizer = optimizer)\n",
        "  ckpt_manager = tf.train.CheckpointManager(ckpt, checkpoint_path, max_to_keep=5)\n",
        "  start_epoch = 0\n",
        "  if ckpt_manager.latest_checkpoint:\n",
        "    start_epoch = int(ckpt_manager.latest_checkpoint.split('-')[-1])\n",
        "    # restoring the latest checkpoint in checkpoint_path\n",
        "    ckpt.restore(ckpt_manager.latest_checkpoint)\n",
        "\n",
        "  # adding this in a separate cell because if you run the training cell\n",
        "  # many times, the loss_plot array will be reset\n",
        "  loss_plot = []\n",
        "\n",
        "  return ckpt_manager,start_epoch,loss_plot,encoder,decoder,optimizer,loss_object"
      ],
      "execution_count": null,
      "outputs": []
    },
    {
      "cell_type": "code",
      "metadata": {
        "id": "qqqH_HOB78H8",
        "colab_type": "code",
        "colab": {}
      },
      "source": [
        "def checkpoint4():\n",
        "  encoder = CNN_Encoder(embedding_dim)\n",
        "  decoder = RNN_Decoder(embedding_dim, units, vocab_size)\n",
        "  optimizer = tf.keras.optimizers.Adam()\n",
        "  loss_object = tf.keras.losses.SparseCategoricalCrossentropy(\n",
        "    from_logits=True, reduction='none')\n",
        "  checkpoint_path = \"./checkpoints4/train\"\n",
        "  ckpt = tf.train.Checkpoint(encoder=encoder,\n",
        "                            decoder=decoder,\n",
        "                            optimizer = optimizer)\n",
        "  ckpt_manager = tf.train.CheckpointManager(ckpt, checkpoint_path, max_to_keep=5)\n",
        "  start_epoch = 0\n",
        "  if ckpt_manager.latest_checkpoint:\n",
        "    start_epoch = int(ckpt_manager.latest_checkpoint.split('-')[-1])\n",
        "    # restoring the latest checkpoint in checkpoint_path\n",
        "    ckpt.restore(ckpt_manager.latest_checkpoint)\n",
        "\n",
        "  # adding this in a separate cell because if you run the training cell\n",
        "  # many times, the loss_plot array will be reset\n",
        "  loss_plot = []\n",
        "\n",
        "  return ckpt_manager,start_epoch,loss_plot,encoder,decoder,optimizer,loss_object"
      ],
      "execution_count": null,
      "outputs": []
    },
    {
      "cell_type": "code",
      "metadata": {
        "colab_type": "code",
        "id": "sqgyz2ANKlpU",
        "colab": {}
      },
      "source": [
        "def get_train_step_fn():\n",
        "  @tf.function\n",
        "  def train_step(img_tensor, target,encoder,decoder,optimizer,loss_object):\n",
        "    loss = 0\n",
        "\n",
        "    # initializing the hidden state for each batch\n",
        "    # because the captions are not related from image to image\n",
        "    hidden = decoder.reset_state(batch_size=target.shape[0])\n",
        "    dec_input = tf.expand_dims([tokenizer.word_index['<start>']] * target.shape[0], 1)\n",
        "    print(dec_input)\n",
        "    with tf.GradientTape() as tape:\n",
        "        features = encoder(img_tensor)\n",
        "\n",
        "        for i in range(1, target.shape[1]):\n",
        "            # passing the features through the decoder\n",
        "            predictions, hidden, _ = decoder(dec_input, features, hidden)\n",
        "            loss += loss_function(target[:, i], predictions,loss_object)\n",
        "\n",
        "            # using teacher forcing\n",
        "            dec_input = tf.expand_dims(target[:, i], 1)\n",
        "\n",
        "    total_loss = (loss / int(target.shape[1]))\n",
        "\n",
        "    trainable_variables = encoder.trainable_variables + decoder.trainable_variables\n",
        "\n",
        "    gradients = tape.gradient(loss, trainable_variables)\n",
        "\n",
        "    optimizer.apply_gradients(zip(gradients, trainable_variables))\n",
        "\n",
        "    return loss, total_loss\n",
        "  return train_step"
      ],
      "execution_count": null,
      "outputs": []
    },
    {
      "cell_type": "code",
      "metadata": {
        "colab_type": "code",
        "id": "UlA4VIQpRPGo",
        "colab": {}
      },
      "source": [
        "def train_model(dataset,ckpt_manager,start_epoch,loss_plot,encoder,decoder,optimizer,loss_object,model_train_step):\n",
        "  EPOCHS = 20\n",
        "\n",
        "  for epoch in range(start_epoch, EPOCHS):\n",
        "      start = time.time()\n",
        "      total_loss = 0\n",
        "\n",
        "      for (batch, (img_tensor, target)) in enumerate(dataset):\n",
        "          batch_loss, t_loss = model_train_step(img_tensor, target,encoder,decoder,optimizer,loss_object)\n",
        "          total_loss += t_loss\n",
        "\n",
        "          if batch % 100 == 0:\n",
        "              print ('Epoch {} Batch {} Loss {:.4f}'.format(\n",
        "                epoch + 1, batch, batch_loss.numpy() / int(target.shape[1])))\n",
        "      # storing the epoch end loss value to plot later\n",
        "      loss_plot.append(total_loss / num_steps)\n",
        "\n",
        "      if epoch % 5 == 0:\n",
        "        ckpt_manager.save()\n",
        "\n",
        "      print ('Epoch {} Loss {:.6f}'.format(epoch + 1,\n",
        "                                          total_loss/num_steps))\n",
        "      print ('Time taken for 1 epoch {} sec\\n'.format(time.time() - start))\n",
        "\n",
        "  plt.plot(loss_plot)\n",
        "  plt.xlabel('Epochs')\n",
        "  plt.ylabel('Loss')\n",
        "  plt.title('Loss Plot')\n",
        "  plt.show()"
      ],
      "execution_count": null,
      "outputs": []
    },
    {
      "cell_type": "code",
      "metadata": {
        "colab_type": "code",
        "id": "RCWpDtyNRPGs",
        "colab": {}
      },
      "source": [
        "def evaluate_resnet(image,encoder,decoder):\n",
        "    attention_plot = np.zeros((max_length, attention_features_shape_resnet))\n",
        "\n",
        "    hidden = decoder.reset_state(batch_size=1)\n",
        "\n",
        "    temp_input = tf.expand_dims(load_image_resnet(image)[0], 0)\n",
        "    img_tensor_val = image_features_extract_model_resnet(temp_input)\n",
        "    img_tensor_val = tf.reshape(img_tensor_val, (img_tensor_val.shape[0], -1, img_tensor_val.shape[3]))\n",
        "\n",
        "    features = encoder(img_tensor_val)\n",
        "\n",
        "    dec_input = tf.expand_dims([tokenizer.word_index['<start>']], 0)\n",
        "    result = []\n",
        "\n",
        "    for i in range(max_length):\n",
        "        predictions, hidden, attention_weights = decoder(dec_input, features, hidden)\n",
        "        attention_plot[i] = tf.reshape(attention_weights, (-1, )).numpy()\n",
        "\n",
        "        predicted_id = tf.random.categorical(predictions, 1)[0][0].numpy()\n",
        "        result.append(tokenizer.index_word[predicted_id])\n",
        "\n",
        "        if tokenizer.index_word[predicted_id] == '<end>':\n",
        "            return result, attention_plot\n",
        "\n",
        "        dec_input = tf.expand_dims([predicted_id], 0)\n",
        "\n",
        "    attention_plot = attention_plot[:len(result), :]\n",
        "    return result, attention_plot"
      ],
      "execution_count": null,
      "outputs": []
    },
    {
      "cell_type": "code",
      "metadata": {
        "id": "JT3ODWF0a5gf",
        "colab_type": "code",
        "colab": {}
      },
      "source": [
        "def evaluate_inception(image,encoder,decoder):\n",
        "    attention_plot = np.zeros((max_length, attention_features_shape_inception))\n",
        "\n",
        "    hidden = decoder.reset_state(batch_size=1)\n",
        "\n",
        "    temp_input = tf.expand_dims(load_image_inception(image)[0], 0)\n",
        "    img_tensor_val = image_features_extract_model_inception(temp_input)\n",
        "    img_tensor_val = tf.reshape(img_tensor_val, (img_tensor_val.shape[0], -1, img_tensor_val.shape[3]))\n",
        "\n",
        "    features = encoder(img_tensor_val)\n",
        "\n",
        "    dec_input = tf.expand_dims([tokenizer.word_index['<start>']], 0)\n",
        "    result = []\n",
        "\n",
        "    for i in range(max_length):\n",
        "        predictions, hidden, attention_weights = decoder(dec_input, features, hidden)\n",
        "        attention_plot[i] = tf.reshape(attention_weights, (-1, )).numpy()\n",
        "\n",
        "        predicted_id = tf.random.categorical(predictions, 1)[0][0].numpy()\n",
        "        result.append(tokenizer.index_word[predicted_id])\n",
        "\n",
        "        if tokenizer.index_word[predicted_id] == '<end>':\n",
        "            return result, attention_plot\n",
        "\n",
        "        dec_input = tf.expand_dims([predicted_id], 0)\n",
        "\n",
        "    attention_plot = attention_plot[:len(result), :]\n",
        "    return result, attention_plot"
      ],
      "execution_count": null,
      "outputs": []
    },
    {
      "cell_type": "code",
      "metadata": {
        "id": "GByNsCLEa5Q1",
        "colab_type": "code",
        "colab": {}
      },
      "source": [
        "def evaluate_mobilenet(image,encoder,decoder):\n",
        "    attention_plot = np.zeros((max_length, attention_features_shape_mobilenet))\n",
        "\n",
        "    hidden = decoder.reset_state(batch_size=1)\n",
        "\n",
        "    temp_input = tf.expand_dims(load_image_mobilenet(image)[0], 0)\n",
        "    img_tensor_val = image_features_extract_model_mobilenet(temp_input)\n",
        "    img_tensor_val = tf.reshape(img_tensor_val, (img_tensor_val.shape[0], -1, img_tensor_val.shape[3]))\n",
        "\n",
        "    features = encoder(img_tensor_val)\n",
        "\n",
        "    dec_input = tf.expand_dims([tokenizer.word_index['<start>']], 0)\n",
        "    result = []\n",
        "\n",
        "    for i in range(max_length):\n",
        "        predictions, hidden, attention_weights = decoder(dec_input, features, hidden)\n",
        "        attention_plot[i] = tf.reshape(attention_weights, (-1, )).numpy()\n",
        "\n",
        "        predicted_id = tf.random.categorical(predictions, 1)[0][0].numpy()\n",
        "        result.append(tokenizer.index_word[predicted_id])\n",
        "\n",
        "        if tokenizer.index_word[predicted_id] == '<end>':\n",
        "            return result, attention_plot\n",
        "\n",
        "        dec_input = tf.expand_dims([predicted_id], 0)\n",
        "\n",
        "    attention_plot = attention_plot[:len(result), :]\n",
        "    return result, attention_plot"
      ],
      "execution_count": null,
      "outputs": []
    },
    {
      "cell_type": "code",
      "metadata": {
        "id": "gGcVIq47a41k",
        "colab_type": "code",
        "colab": {}
      },
      "source": [
        "def evaluate_vgg(image,encoder,decoder):\n",
        "    attention_plot = np.zeros((max_length, attention_features_shape_vgg))\n",
        "\n",
        "    hidden = decoder.reset_state(batch_size=1)\n",
        "\n",
        "    temp_input = tf.expand_dims(load_image_vgg(image)[0], 0)\n",
        "    img_tensor_val = image_features_extract_model_vgg(temp_input)\n",
        "    img_tensor_val = tf.reshape(img_tensor_val, (img_tensor_val.shape[0], -1, img_tensor_val.shape[3]))\n",
        "\n",
        "    features = encoder(img_tensor_val)\n",
        "\n",
        "    dec_input = tf.expand_dims([tokenizer.word_index['<start>']], 0)\n",
        "    result = []\n",
        "\n",
        "    for i in range(max_length):\n",
        "        predictions, hidden, attention_weights = decoder(dec_input, features, hidden)\n",
        "        attention_plot[i] = tf.reshape(attention_weights, (-1, )).numpy()\n",
        "\n",
        "        predicted_id = tf.random.categorical(predictions, 1)[0][0].numpy()\n",
        "        result.append(tokenizer.index_word[predicted_id])\n",
        "\n",
        "        if tokenizer.index_word[predicted_id] == '<end>':\n",
        "            return result, attention_plot\n",
        "\n",
        "        dec_input = tf.expand_dims([predicted_id], 0)\n",
        "\n",
        "    attention_plot = attention_plot[:len(result), :]\n",
        "    return result, attention_plot"
      ],
      "execution_count": null,
      "outputs": []
    },
    {
      "cell_type": "code",
      "metadata": {
        "colab_type": "code",
        "id": "fD_y7PD6RPGt",
        "colab": {}
      },
      "source": [
        "def plot_attention(image, result, attention_plot):\n",
        "    temp_image = np.array(Image.open(image))\n",
        "\n",
        "    fig = plt.figure(figsize=(10, 10))\n",
        "\n",
        "    len_result = len(result)\n",
        "    for l in range(len_result):\n",
        "        temp_att = np.resize(attention_plot[l], (8, 8))\n",
        "        ax = fig.add_subplot(len_result//2, len_result//2, l+1)\n",
        "        ax.set_title(result[l])\n",
        "        img = ax.imshow(temp_image)\n",
        "        ax.imshow(temp_att, cmap='gray', alpha=0.6, extent=img.get_extent())\n",
        "\n",
        "    plt.tight_layout()\n",
        "    plt.show()"
      ],
      "execution_count": null,
      "outputs": []
    },
    {
      "cell_type": "code",
      "metadata": {
        "id": "UQz0_1dQ24Yy",
        "colab_type": "code",
        "colab": {}
      },
      "source": [
        "#INCEPTION\n",
        "def bleu_accuracy_inception(encoder,decoder):\n",
        "  bleus=[]\n",
        "  bleus_1=[]\n",
        "  bleus_2=[]\n",
        "  bleus_3=[]\n",
        "  bleus_4=[]\n",
        "  for rid in range(0,len(img_name_val)):\n",
        "    image = img_name_val[rid]\n",
        "    real_caption = ' '.join([tokenizer.index_word[i] for i in cap_val[rid] if i not in [0]])\n",
        "    result, attention_plot = evaluate_inception(image,encoder,decoder)\n",
        "    bleus.append(nltk.translate.bleu_score.sentence_bleu([real_caption], ' '.join(result)))\n",
        "    bleus_1.append(nltk.translate.bleu_score.sentence_bleu([real_caption], ' '.join(result),weights=(1, 0, 0, 0)))\n",
        "    bleus_2.append(nltk.translate.bleu_score.sentence_bleu([real_caption], ' '.join(result),weights=(0, 1, 0, 0)))\n",
        "    bleus_3.append(nltk.translate.bleu_score.sentence_bleu([real_caption], ' '.join(result),weights=(0, 0, 1, 0)))\n",
        "    bleus_4.append(nltk.translate.bleu_score.sentence_bleu([real_caption], ' '.join(result),weights=(0, 0, 0, 1)))\n",
        "  return bleus,bleus_1,bleus_2,bleus_3,bleus_4"
      ],
      "execution_count": null,
      "outputs": []
    },
    {
      "cell_type": "code",
      "metadata": {
        "id": "RWENZFK_dWh2",
        "colab_type": "code",
        "colab": {}
      },
      "source": [
        "#ResNet\n",
        "def bleu_accuracy_resnet(encoder,decoder):\n",
        "\n",
        "  bleus=[]\n",
        "  bleus_1=[]\n",
        "  bleus_2=[]\n",
        "  bleus_3=[]\n",
        "  bleus_4=[]\n",
        "  for rid in range(0,len(img_name_val)):\n",
        "    image = img_name_val[rid]\n",
        "    real_caption = ' '.join([tokenizer.index_word[i] for i in cap_val[rid] if i not in [0]])\n",
        "    result, attention_plot = evaluate_resnet(image,encoder,decoder)\n",
        "    bleus.append(nltk.translate.bleu_score.sentence_bleu([real_caption], ' '.join(result)))\n",
        "    bleus_1.append(nltk.translate.bleu_score.sentence_bleu([real_caption], ' '.join(result),weights=(1, 0, 0, 0)))\n",
        "    bleus_2.append(nltk.translate.bleu_score.sentence_bleu([real_caption], ' '.join(result),weights=(0, 1, 0, 0)))\n",
        "    bleus_3.append(nltk.translate.bleu_score.sentence_bleu([real_caption], ' '.join(result),weights=(0, 0, 1, 0)))\n",
        "    bleus_4.append(nltk.translate.bleu_score.sentence_bleu([real_caption], ' '.join(result),weights=(0, 0, 0, 1)))\n",
        "\n",
        "  return bleus,bleus_1,bleus_2,bleus_3,bleus_4"
      ],
      "execution_count": null,
      "outputs": []
    },
    {
      "cell_type": "code",
      "metadata": {
        "id": "wV-OsGfLdWY3",
        "colab_type": "code",
        "colab": {}
      },
      "source": [
        "#MobileNet\n",
        "def bleu_accuracy_mobilenet(encoder,decoder):\n",
        "\n",
        "  bleus=[]\n",
        "  bleus_1=[]\n",
        "  bleus_2=[]\n",
        "  bleus_3=[]\n",
        "  bleus_4=[]\n",
        "  for rid in range(0,len(img_name_val)):\n",
        "    image = img_name_val[rid]\n",
        "    real_caption = ' '.join([tokenizer.index_word[i] for i in cap_val[rid] if i not in [0]])\n",
        "    result, attention_plot = evaluate_mobilenet(image,encoder,decoder)\n",
        "    bleus.append(nltk.translate.bleu_score.sentence_bleu([real_caption], ' '.join(result)))\n",
        "    bleus_1.append(nltk.translate.bleu_score.sentence_bleu([real_caption], ' '.join(result),weights=(1, 0, 0, 0)))\n",
        "    bleus_2.append(nltk.translate.bleu_score.sentence_bleu([real_caption], ' '.join(result),weights=(0, 1, 0, 0)))\n",
        "    bleus_3.append(nltk.translate.bleu_score.sentence_bleu([real_caption], ' '.join(result),weights=(0, 0, 1, 0)))\n",
        "    bleus_4.append(nltk.translate.bleu_score.sentence_bleu([real_caption], ' '.join(result),weights=(0, 0, 0, 1)))\n",
        "  return bleus,bleus_1,bleus_2,bleus_3,bleus_4"
      ],
      "execution_count": null,
      "outputs": []
    },
    {
      "cell_type": "code",
      "metadata": {
        "id": "H3OoYSjcdWL3",
        "colab_type": "code",
        "colab": {}
      },
      "source": [
        "#VGG\n",
        "def bleu_accuracy_vgg(encoder,decoder):\n",
        "    \n",
        "  bleus=[]\n",
        "  bleus_1=[]\n",
        "  bleus_2=[]\n",
        "  bleus_3=[]\n",
        "  bleus_4=[]\n",
        "  for rid in range(0,len(img_name_val)):\n",
        "    image = img_name_val[rid]\n",
        "    real_caption = ' '.join([tokenizer.index_word[i] for i in cap_val[rid] if i not in [0]])\n",
        "    result, attention_plot = evaluate_vgg(image,encoder,decoder)\n",
        "    bleus.append(nltk.translate.bleu_score.sentence_bleu([real_caption], ' '.join(result)))\n",
        "    bleus_1.append(nltk.translate.bleu_score.sentence_bleu([real_caption], ' '.join(result),weights=(1, 0, 0, 0)))\n",
        "    bleus_2.append(nltk.translate.bleu_score.sentence_bleu([real_caption], ' '.join(result),weights=(0, 1, 0, 0)))\n",
        "    bleus_3.append(nltk.translate.bleu_score.sentence_bleu([real_caption], ' '.join(result),weights=(0, 0, 1, 0)))\n",
        "    bleus_4.append(nltk.translate.bleu_score.sentence_bleu([real_caption], ' '.join(result),weights=(0, 0, 0, 1)))\n",
        "\n",
        "  return bleus,bleus_1,bleus_2,bleus_3,bleus_4"
      ],
      "execution_count": null,
      "outputs": []
    },
    {
      "cell_type": "code",
      "metadata": {
        "id": "QG6rJmA8S4zp",
        "colab_type": "code",
        "colab": {}
      },
      "source": [
        "# captions on the validation set\n",
        "rid = np.random.randint(0, len(img_name_val))\n",
        "#rid=3000\n",
        "image = img_name_val[rid]\n",
        "real_caption = ' '.join([tokenizer.index_word[i] for i in cap_val[rid] if i not in [0]])"
      ],
      "execution_count": null,
      "outputs": []
    },
    {
      "cell_type": "code",
      "metadata": {
        "id": "GF9zVbdlZcC4",
        "colab_type": "code",
        "colab": {}
      },
      "source": [
        "def print_bleu_score(bleus,bleus_1,bleus_2,bleus_3,bleus_4):\n",
        "  print(\"Mean Cumulative BLEU {:4.3f}\".format(np.mean(bleus)))\n",
        "  print(\"Mean BLEU-1 {:4.3f}\".format(np.mean(bleus_1)))\n",
        "  print(\"Mean BLEU-2 {:4.3f}\".format(np.mean(bleus_2)))\n",
        "  print(\"Mean BLEU-3 {:4.3f}\".format(np.mean(bleus_3)))\n",
        "  print(\"Mean BLEU-4 {:4.3f}\".format(np.mean(bleus_4)))"
      ],
      "execution_count": null,
      "outputs": []
    },
    {
      "cell_type": "code",
      "metadata": {
        "colab_type": "code",
        "id": "7x8RiPHe_4qI",
        "colab": {
          "base_uri": "https://localhost:8080/",
          "height": 777
        },
        "outputId": "bfe20b9d-d592-4bbf-fb4b-f7a55ac09348"
      },
      "source": [
        "#InceptionV3\n",
        "ckpt_manager,start_epoch,loss_plot,encoder,decoder,optimizer,loss_object = checkpoint1()\n",
        "print(\"k\")\n",
        "inception_model()\n",
        "dataset = load_dataset()\n",
        "model_train_step = get_train_step_fn()\n",
        "train_model(dataset,ckpt_manager,start_epoch,loss_plot,encoder,decoder,optimizer,loss_object,model_train_step)\n"
      ],
      "execution_count": null,
      "outputs": [
        {
          "output_type": "stream",
          "text": [
            "k\n",
            "INCEPTION MODEL\n",
            "(16, 8, 8, 2048)\n",
            "<ParallelMapDataset shapes: (<unknown>, <unknown>), types: (tf.float32, tf.int32)>\n",
            "LOAD DATASET\n",
            "Tensor(\"ExpandDims:0\", shape=(64, 1), dtype=int32)\n",
            "Tensor(\"ExpandDims:0\", shape=(64, 1), dtype=int32)\n",
            "Epoch 1 Batch 0 Loss 1.9746\n",
            "Epoch 1 Batch 100 Loss 1.0915\n",
            "Epoch 1 Batch 200 Loss 0.9353\n",
            "Epoch 1 Batch 300 Loss 0.8780\n",
            "Epoch 1 Loss 1.029397\n",
            "Time taken for 1 epoch 381.5763783454895 sec\n",
            "\n",
            "Epoch 2 Batch 0 Loss 0.8629\n",
            "Epoch 2 Batch 100 Loss 0.8997\n",
            "Epoch 2 Batch 200 Loss 0.8293\n",
            "Epoch 2 Batch 300 Loss 0.7553\n",
            "Epoch 2 Loss 0.791563\n",
            "Time taken for 1 epoch 363.33214569091797 sec\n",
            "\n",
            "Epoch 3 Batch 0 Loss 0.7271\n",
            "Epoch 3 Batch 100 Loss 0.7641\n",
            "Epoch 3 Batch 200 Loss 0.6638\n",
            "Epoch 3 Batch 300 Loss 0.7269\n"
          ],
          "name": "stdout"
        },
        {
          "output_type": "error",
          "ename": "KeyboardInterrupt",
          "evalue": "ignored",
          "traceback": [
            "\u001b[0;31m---------------------------------------------------------------------------\u001b[0m",
            "\u001b[0;31mKeyboardInterrupt\u001b[0m                         Traceback (most recent call last)",
            "\u001b[0;32m<ipython-input-52-8cc6f3c2c678>\u001b[0m in \u001b[0;36m<module>\u001b[0;34m()\u001b[0m\n\u001b[1;32m      5\u001b[0m \u001b[0mdataset\u001b[0m \u001b[0;34m=\u001b[0m \u001b[0mload_dataset\u001b[0m\u001b[0;34m(\u001b[0m\u001b[0;34m)\u001b[0m\u001b[0;34m\u001b[0m\u001b[0;34m\u001b[0m\u001b[0m\n\u001b[1;32m      6\u001b[0m \u001b[0mmodel_train_step\u001b[0m \u001b[0;34m=\u001b[0m \u001b[0mget_train_step_fn\u001b[0m\u001b[0;34m(\u001b[0m\u001b[0;34m)\u001b[0m\u001b[0;34m\u001b[0m\u001b[0;34m\u001b[0m\u001b[0m\n\u001b[0;32m----> 7\u001b[0;31m \u001b[0mtrain_model\u001b[0m\u001b[0;34m(\u001b[0m\u001b[0mdataset\u001b[0m\u001b[0;34m,\u001b[0m\u001b[0mckpt_manager\u001b[0m\u001b[0;34m,\u001b[0m\u001b[0mstart_epoch\u001b[0m\u001b[0;34m,\u001b[0m\u001b[0mloss_plot\u001b[0m\u001b[0;34m,\u001b[0m\u001b[0mencoder\u001b[0m\u001b[0;34m,\u001b[0m\u001b[0mdecoder\u001b[0m\u001b[0;34m,\u001b[0m\u001b[0moptimizer\u001b[0m\u001b[0;34m,\u001b[0m\u001b[0mloss_object\u001b[0m\u001b[0;34m,\u001b[0m\u001b[0mmodel_train_step\u001b[0m\u001b[0;34m)\u001b[0m\u001b[0;34m\u001b[0m\u001b[0;34m\u001b[0m\u001b[0m\n\u001b[0m",
            "\u001b[0;32m<ipython-input-40-74398637efa3>\u001b[0m in \u001b[0;36mtrain_model\u001b[0;34m(dataset, ckpt_manager, start_epoch, loss_plot, encoder, decoder, optimizer, loss_object, model_train_step)\u001b[0m\n\u001b[1;32m      6\u001b[0m       \u001b[0mtotal_loss\u001b[0m \u001b[0;34m=\u001b[0m \u001b[0;36m0\u001b[0m\u001b[0;34m\u001b[0m\u001b[0;34m\u001b[0m\u001b[0m\n\u001b[1;32m      7\u001b[0m \u001b[0;34m\u001b[0m\u001b[0m\n\u001b[0;32m----> 8\u001b[0;31m       \u001b[0;32mfor\u001b[0m \u001b[0;34m(\u001b[0m\u001b[0mbatch\u001b[0m\u001b[0;34m,\u001b[0m \u001b[0;34m(\u001b[0m\u001b[0mimg_tensor\u001b[0m\u001b[0;34m,\u001b[0m \u001b[0mtarget\u001b[0m\u001b[0;34m)\u001b[0m\u001b[0;34m)\u001b[0m \u001b[0;32min\u001b[0m \u001b[0menumerate\u001b[0m\u001b[0;34m(\u001b[0m\u001b[0mdataset\u001b[0m\u001b[0;34m)\u001b[0m\u001b[0;34m:\u001b[0m\u001b[0;34m\u001b[0m\u001b[0;34m\u001b[0m\u001b[0m\n\u001b[0m\u001b[1;32m      9\u001b[0m           \u001b[0mbatch_loss\u001b[0m\u001b[0;34m,\u001b[0m \u001b[0mt_loss\u001b[0m \u001b[0;34m=\u001b[0m \u001b[0mmodel_train_step\u001b[0m\u001b[0;34m(\u001b[0m\u001b[0mimg_tensor\u001b[0m\u001b[0;34m,\u001b[0m \u001b[0mtarget\u001b[0m\u001b[0;34m,\u001b[0m\u001b[0mencoder\u001b[0m\u001b[0;34m,\u001b[0m\u001b[0mdecoder\u001b[0m\u001b[0;34m,\u001b[0m\u001b[0moptimizer\u001b[0m\u001b[0;34m,\u001b[0m\u001b[0mloss_object\u001b[0m\u001b[0;34m)\u001b[0m\u001b[0;34m\u001b[0m\u001b[0;34m\u001b[0m\u001b[0m\n\u001b[1;32m     10\u001b[0m           \u001b[0mtotal_loss\u001b[0m \u001b[0;34m+=\u001b[0m \u001b[0mt_loss\u001b[0m\u001b[0;34m\u001b[0m\u001b[0;34m\u001b[0m\u001b[0m\n",
            "\u001b[0;32m/usr/local/lib/python3.6/dist-packages/tensorflow/python/data/ops/iterator_ops.py\u001b[0m in \u001b[0;36m__next__\u001b[0;34m(self)\u001b[0m\n\u001b[1;32m    629\u001b[0m \u001b[0;34m\u001b[0m\u001b[0m\n\u001b[1;32m    630\u001b[0m   \u001b[0;32mdef\u001b[0m \u001b[0m__next__\u001b[0m\u001b[0;34m(\u001b[0m\u001b[0mself\u001b[0m\u001b[0;34m)\u001b[0m\u001b[0;34m:\u001b[0m  \u001b[0;31m# For Python 3 compatibility\u001b[0m\u001b[0;34m\u001b[0m\u001b[0;34m\u001b[0m\u001b[0m\n\u001b[0;32m--> 631\u001b[0;31m     \u001b[0;32mreturn\u001b[0m \u001b[0mself\u001b[0m\u001b[0;34m.\u001b[0m\u001b[0mnext\u001b[0m\u001b[0;34m(\u001b[0m\u001b[0;34m)\u001b[0m\u001b[0;34m\u001b[0m\u001b[0;34m\u001b[0m\u001b[0m\n\u001b[0m\u001b[1;32m    632\u001b[0m \u001b[0;34m\u001b[0m\u001b[0m\n\u001b[1;32m    633\u001b[0m   \u001b[0;32mdef\u001b[0m \u001b[0m_next_internal\u001b[0m\u001b[0;34m(\u001b[0m\u001b[0mself\u001b[0m\u001b[0;34m)\u001b[0m\u001b[0;34m:\u001b[0m\u001b[0;34m\u001b[0m\u001b[0;34m\u001b[0m\u001b[0m\n",
            "\u001b[0;32m/usr/local/lib/python3.6/dist-packages/tensorflow/python/data/ops/iterator_ops.py\u001b[0m in \u001b[0;36mnext\u001b[0;34m(self)\u001b[0m\n\u001b[1;32m    668\u001b[0m     \u001b[0;34m\"\"\"Returns a nested structure of `Tensor`s containing the next element.\"\"\"\u001b[0m\u001b[0;34m\u001b[0m\u001b[0;34m\u001b[0m\u001b[0m\n\u001b[1;32m    669\u001b[0m     \u001b[0;32mtry\u001b[0m\u001b[0;34m:\u001b[0m\u001b[0;34m\u001b[0m\u001b[0;34m\u001b[0m\u001b[0m\n\u001b[0;32m--> 670\u001b[0;31m       \u001b[0;32mreturn\u001b[0m \u001b[0mself\u001b[0m\u001b[0;34m.\u001b[0m\u001b[0m_next_internal\u001b[0m\u001b[0;34m(\u001b[0m\u001b[0;34m)\u001b[0m\u001b[0;34m\u001b[0m\u001b[0;34m\u001b[0m\u001b[0m\n\u001b[0m\u001b[1;32m    671\u001b[0m     \u001b[0;32mexcept\u001b[0m \u001b[0merrors\u001b[0m\u001b[0;34m.\u001b[0m\u001b[0mOutOfRangeError\u001b[0m\u001b[0;34m:\u001b[0m\u001b[0;34m\u001b[0m\u001b[0;34m\u001b[0m\u001b[0m\n\u001b[1;32m    672\u001b[0m       \u001b[0;32mraise\u001b[0m \u001b[0mStopIteration\u001b[0m\u001b[0;34m\u001b[0m\u001b[0;34m\u001b[0m\u001b[0m\n",
            "\u001b[0;32m/usr/local/lib/python3.6/dist-packages/tensorflow/python/data/ops/iterator_ops.py\u001b[0m in \u001b[0;36m_next_internal\u001b[0;34m(self)\u001b[0m\n\u001b[1;32m    653\u001b[0m             \u001b[0mself\u001b[0m\u001b[0;34m.\u001b[0m\u001b[0m_iterator_resource\u001b[0m\u001b[0;34m,\u001b[0m\u001b[0;34m\u001b[0m\u001b[0;34m\u001b[0m\u001b[0m\n\u001b[1;32m    654\u001b[0m             \u001b[0moutput_types\u001b[0m\u001b[0;34m=\u001b[0m\u001b[0mself\u001b[0m\u001b[0;34m.\u001b[0m\u001b[0m_flat_output_types\u001b[0m\u001b[0;34m,\u001b[0m\u001b[0;34m\u001b[0m\u001b[0;34m\u001b[0m\u001b[0m\n\u001b[0;32m--> 655\u001b[0;31m             output_shapes=self._flat_output_shapes)\n\u001b[0m\u001b[1;32m    656\u001b[0m \u001b[0;34m\u001b[0m\u001b[0m\n\u001b[1;32m    657\u001b[0m       \u001b[0;32mtry\u001b[0m\u001b[0;34m:\u001b[0m\u001b[0;34m\u001b[0m\u001b[0;34m\u001b[0m\u001b[0m\n",
            "\u001b[0;32m/usr/local/lib/python3.6/dist-packages/tensorflow/python/ops/gen_dataset_ops.py\u001b[0m in \u001b[0;36miterator_get_next\u001b[0;34m(iterator, output_types, output_shapes, name)\u001b[0m\n\u001b[1;32m   2351\u001b[0m         \u001b[0m_ctx\u001b[0m\u001b[0;34m.\u001b[0m\u001b[0m_context_handle\u001b[0m\u001b[0;34m,\u001b[0m \u001b[0mtld\u001b[0m\u001b[0;34m.\u001b[0m\u001b[0mdevice_name\u001b[0m\u001b[0;34m,\u001b[0m \u001b[0;34m\"IteratorGetNext\"\u001b[0m\u001b[0;34m,\u001b[0m \u001b[0mname\u001b[0m\u001b[0;34m,\u001b[0m\u001b[0;34m\u001b[0m\u001b[0;34m\u001b[0m\u001b[0m\n\u001b[1;32m   2352\u001b[0m         \u001b[0mtld\u001b[0m\u001b[0;34m.\u001b[0m\u001b[0mop_callbacks\u001b[0m\u001b[0;34m,\u001b[0m \u001b[0miterator\u001b[0m\u001b[0;34m,\u001b[0m \u001b[0;34m\"output_types\"\u001b[0m\u001b[0;34m,\u001b[0m \u001b[0moutput_types\u001b[0m\u001b[0;34m,\u001b[0m\u001b[0;34m\u001b[0m\u001b[0;34m\u001b[0m\u001b[0m\n\u001b[0;32m-> 2353\u001b[0;31m         \"output_shapes\", output_shapes)\n\u001b[0m\u001b[1;32m   2354\u001b[0m       \u001b[0;32mreturn\u001b[0m \u001b[0m_result\u001b[0m\u001b[0;34m\u001b[0m\u001b[0;34m\u001b[0m\u001b[0m\n\u001b[1;32m   2355\u001b[0m     \u001b[0;32mexcept\u001b[0m \u001b[0m_core\u001b[0m\u001b[0;34m.\u001b[0m\u001b[0m_FallbackException\u001b[0m\u001b[0;34m:\u001b[0m\u001b[0;34m\u001b[0m\u001b[0;34m\u001b[0m\u001b[0m\n",
            "\u001b[0;31mKeyboardInterrupt\u001b[0m: "
          ]
        }
      ]
    },
    {
      "cell_type": "code",
      "metadata": {
        "id": "WqB3P2c1uI9a",
        "colab_type": "code",
        "colab": {}
      },
      "source": [
        "result, attention_plot = evaluate_inception(image,encoder,decoder)\n",
        "print(\"INCEPTION\\n\")\n",
        "print ('Real Caption:', real_caption)\n",
        "print ('Prediction Caption:', ' '.join(result))\n",
        "plot_attention(image, result, attention_plot)\n",
        "BLEUscore = nltk.translate.bleu_score.sentence_bleu([real_caption], ' '.join(result))\n",
        "print(BLEUscore)\n",
        "inception_bleus,inception_bleus_1,inception_bleus_2,inception_bleus_3,inception_bleus_4 = bleu_accuracy_inception(encoder,decoder)"
      ],
      "execution_count": null,
      "outputs": []
    },
    {
      "cell_type": "code",
      "metadata": {
        "id": "_8UbUPWxnxWc",
        "colab_type": "code",
        "colab": {}
      },
      "source": [
        "print(\"InceptionV3 Accuracy: \")\n",
        "print_bleu_score(inception_bleus,inception_bleus_1,inception_bleus_2,inception_bleus_3,inception_bleus_4)"
      ],
      "execution_count": null,
      "outputs": []
    },
    {
      "cell_type": "code",
      "metadata": {
        "id": "WoDAv6B-bBXK",
        "colab_type": "code",
        "colab": {
          "base_uri": "https://localhost:8080/",
          "height": 1000
        },
        "outputId": "3d7f75c6-afb4-490d-f16d-31bf76c242f6"
      },
      "source": [
        "#MobileNet\n",
        "ckpt_manager,start_epoch,loss_plot,encoder,decoder,optimizer,loss_object = checkpoint3()\n",
        "mobilenet_model()\n",
        "dataset = load_dataset()\n",
        "model_train_step = get_train_step_fn()\n",
        "train_model(dataset,ckpt_manager,start_epoch,loss_plot,encoder,decoder,optimizer,loss_object,model_train_step)"
      ],
      "execution_count": null,
      "outputs": [
        {
          "output_type": "stream",
          "text": [
            "(16, 14, 14, 512)\n",
            "<ParallelMapDataset shapes: (<unknown>, <unknown>), types: (tf.float32, tf.int32)>\n",
            "LOAD DATASET\n",
            "Tensor(\"ExpandDims:0\", shape=(64, 1), dtype=int32)\n",
            "Tensor(\"ExpandDims:0\", shape=(64, 1), dtype=int32)\n",
            "Epoch 1 Batch 0 Loss 2.1282\n",
            "Epoch 1 Batch 100 Loss 1.0786\n",
            "Epoch 1 Batch 200 Loss 0.9863\n",
            "Epoch 1 Batch 300 Loss 0.9691\n",
            "Epoch 1 Loss 1.044925\n",
            "Time taken for 1 epoch 331.54515266418457 sec\n",
            "\n",
            "Epoch 2 Batch 0 Loss 0.8096\n",
            "Epoch 2 Batch 100 Loss 0.8305\n",
            "Epoch 2 Batch 200 Loss 0.7978\n",
            "Epoch 2 Batch 300 Loss 0.8198\n",
            "Epoch 2 Loss 0.826654\n",
            "Time taken for 1 epoch 312.8122184276581 sec\n",
            "\n",
            "Epoch 3 Batch 0 Loss 0.8598\n",
            "Epoch 3 Batch 100 Loss 0.7894\n",
            "Epoch 3 Batch 200 Loss 0.7408\n",
            "Epoch 3 Batch 300 Loss 0.7243\n",
            "Epoch 3 Loss 0.754950\n",
            "Time taken for 1 epoch 312.15221118927 sec\n",
            "\n",
            "Epoch 4 Batch 0 Loss 0.6952\n",
            "Epoch 4 Batch 100 Loss 0.6983\n",
            "Epoch 4 Batch 200 Loss 0.6764\n",
            "Epoch 4 Batch 300 Loss 0.7135\n",
            "Epoch 4 Loss 0.709910\n",
            "Time taken for 1 epoch 312.2485866546631 sec\n",
            "\n",
            "Epoch 5 Batch 0 Loss 0.7289\n",
            "Epoch 5 Batch 100 Loss 0.7097\n",
            "Epoch 5 Batch 200 Loss 0.6080\n",
            "Epoch 5 Batch 300 Loss 0.6352\n",
            "Epoch 5 Loss 0.676361\n",
            "Time taken for 1 epoch 310.0256893634796 sec\n",
            "\n",
            "Epoch 6 Batch 0 Loss 0.6915\n",
            "Epoch 6 Batch 100 Loss 0.6190\n",
            "Epoch 6 Batch 200 Loss 0.6559\n",
            "Epoch 6 Batch 300 Loss 0.5846\n",
            "Epoch 6 Loss 0.648878\n",
            "Time taken for 1 epoch 311.1954460144043 sec\n",
            "\n",
            "Epoch 7 Batch 0 Loss 0.6362\n",
            "Epoch 7 Batch 100 Loss 0.6625\n",
            "Epoch 7 Batch 200 Loss 0.6407\n",
            "Epoch 7 Batch 300 Loss 0.6557\n",
            "Epoch 7 Loss 0.624815\n",
            "Time taken for 1 epoch 311.4899961948395 sec\n",
            "\n",
            "Epoch 8 Batch 0 Loss 0.5696\n",
            "Epoch 8 Batch 100 Loss 0.6116\n",
            "Epoch 8 Batch 200 Loss 0.5798\n",
            "Epoch 8 Batch 300 Loss 0.5880\n",
            "Epoch 8 Loss 0.602475\n",
            "Time taken for 1 epoch 310.7743470668793 sec\n",
            "\n",
            "Epoch 9 Batch 0 Loss 0.5800\n",
            "Epoch 9 Batch 100 Loss 0.6599\n",
            "Epoch 9 Batch 200 Loss 0.6109\n",
            "Epoch 9 Batch 300 Loss 0.5830\n",
            "Epoch 9 Loss 0.581543\n",
            "Time taken for 1 epoch 311.3807108402252 sec\n",
            "\n",
            "Epoch 10 Batch 0 Loss 0.5512\n",
            "Epoch 10 Batch 100 Loss 0.5750\n",
            "Epoch 10 Batch 200 Loss 0.5353\n",
            "Epoch 10 Batch 300 Loss 0.5832\n",
            "Epoch 10 Loss 0.561860\n",
            "Time taken for 1 epoch 310.68406438827515 sec\n",
            "\n",
            "Epoch 11 Batch 0 Loss 0.5571\n",
            "Epoch 11 Batch 100 Loss 0.5790\n",
            "Epoch 11 Batch 200 Loss 0.5360\n",
            "Epoch 11 Batch 300 Loss 0.5778\n",
            "Epoch 11 Loss 0.542720\n",
            "Time taken for 1 epoch 310.7284209728241 sec\n",
            "\n",
            "Epoch 12 Batch 0 Loss 0.5190\n",
            "Epoch 12 Batch 100 Loss 0.5251\n",
            "Epoch 12 Batch 200 Loss 0.5298\n",
            "Epoch 12 Batch 300 Loss 0.4655\n",
            "Epoch 12 Loss 0.523358\n",
            "Time taken for 1 epoch 311.39022731781006 sec\n",
            "\n",
            "Epoch 13 Batch 0 Loss 0.5308\n",
            "Epoch 13 Batch 100 Loss 0.5338\n",
            "Epoch 13 Batch 200 Loss 0.5110\n",
            "Epoch 13 Batch 300 Loss 0.5261\n",
            "Epoch 13 Loss 0.503744\n",
            "Time taken for 1 epoch 310.32548904418945 sec\n",
            "\n",
            "Epoch 14 Batch 0 Loss 0.4844\n",
            "Epoch 14 Batch 100 Loss 0.5567\n",
            "Epoch 14 Batch 200 Loss 0.4730\n",
            "Epoch 14 Batch 300 Loss 0.4962\n",
            "Epoch 14 Loss 0.484577\n",
            "Time taken for 1 epoch 310.7742989063263 sec\n",
            "\n",
            "Epoch 15 Batch 0 Loss 0.4741\n",
            "Epoch 15 Batch 100 Loss 0.4732\n",
            "Epoch 15 Batch 200 Loss 0.4260\n",
            "Epoch 15 Batch 300 Loss 0.4417\n",
            "Epoch 15 Loss 0.466457\n",
            "Time taken for 1 epoch 311.5881097316742 sec\n",
            "\n",
            "Epoch 16 Batch 0 Loss 0.5013\n",
            "Epoch 16 Batch 100 Loss 0.4781\n",
            "Epoch 16 Batch 200 Loss 0.4287\n",
            "Epoch 16 Batch 300 Loss 0.4387\n",
            "Epoch 16 Loss 0.448576\n",
            "Time taken for 1 epoch 311.32914423942566 sec\n",
            "\n",
            "Epoch 17 Batch 0 Loss 0.4394\n",
            "Epoch 17 Batch 100 Loss 0.4450\n",
            "Epoch 17 Batch 200 Loss 0.3902\n",
            "Epoch 17 Batch 300 Loss 0.4451\n",
            "Epoch 17 Loss 0.430712\n",
            "Time taken for 1 epoch 310.6291117668152 sec\n",
            "\n",
            "Epoch 18 Batch 0 Loss 0.4185\n",
            "Epoch 18 Batch 100 Loss 0.4655\n",
            "Epoch 18 Batch 200 Loss 0.4461\n",
            "Epoch 18 Batch 300 Loss 0.4178\n",
            "Epoch 18 Loss 0.412660\n",
            "Time taken for 1 epoch 309.9908661842346 sec\n",
            "\n",
            "Epoch 19 Batch 0 Loss 0.4299\n",
            "Epoch 19 Batch 100 Loss 0.4035\n",
            "Epoch 19 Batch 200 Loss 0.4092\n",
            "Epoch 19 Batch 300 Loss 0.3870\n",
            "Epoch 19 Loss 0.396022\n",
            "Time taken for 1 epoch 310.8893449306488 sec\n",
            "\n",
            "Epoch 20 Batch 0 Loss 0.4001\n",
            "Epoch 20 Batch 100 Loss 0.4088\n",
            "Epoch 20 Batch 200 Loss 0.3789\n",
            "Epoch 20 Batch 300 Loss 0.3585\n",
            "Epoch 20 Loss 0.380064\n",
            "Time taken for 1 epoch 310.54807138442993 sec\n",
            "\n"
          ],
          "name": "stdout"
        },
        {
          "output_type": "display_data",
          "data": {
            "image/png": "[encoded data removed]",
            "text/plain": [
              "<Figure size 432x288 with 1 Axes>"
            ]
          },
          "metadata": {
            "tags": [],
            "needs_background": "light"
          }
        }
      ]
    },
    {
      "cell_type": "code",
      "metadata": {
        "id": "4MOJ6QrHuSP8",
        "colab_type": "code",
        "colab": {
          "base_uri": "https://localhost:8080/",
          "height": 369
        },
        "outputId": "79e18fc5-4aad-4c32-d98e-97d116c237b0"
      },
      "source": [
        "result, attention_plot = evaluate_mobilenet(image,encoder,decoder)\n",
        "print(\"MobileNet\\n\")\n",
        "print ('Real Caption:', real_caption)\n",
        "print ('Prediction Caption:', ' '.join(result))\n",
        "plot_attention(image, result, attention_plot)\n",
        "BLEUscore = nltk.translate.bleu_score.sentence_bleu([real_caption], ' '.join(result))\n",
        "print(BLEUscore)\n",
        "\n",
        "mobilenet_bleus,mobilenet_bleus_1,mobilenet_bleus_2,mobilenet_bleus_3,mobilenet_bleus_4 = bleu_accuracy_mobilenet(encoder,decoder)"
      ],
      "execution_count": null,
      "outputs": [
        {
          "output_type": "stream",
          "text": [
            "MobileNet\n",
            "\n",
            "Real Caption: <start> a woman and a child play with colored blocks <end>\n",
            "Prediction Caption: a woman sitting in the middle of a rock <end>\n"
          ],
          "name": "stdout"
        },
        {
          "output_type": "display_data",
          "data": {
            "image/png": "[encoded data removed]",
            "text/plain": [
              "<Figure size 720x720 with 10 Axes>"
            ]
          },
          "metadata": {
            "tags": [],
            "needs_background": "light"
          }
        },
        {
          "output_type": "stream",
          "text": [
            "0.2757549069641312\n"
          ],
          "name": "stdout"
        }
      ]
    },
    {
      "cell_type": "code",
      "metadata": {
        "id": "iUfRX68SoE0X",
        "colab_type": "code",
        "colab": {}
      },
      "source": [
        "print(\"\\nMobileNet Accuracy: \")\n",
        "print_bleu_score(mobilenet_bleus,mobilenet_bleus_1,mobilenet_bleus_2,mobilenet_bleus_3,mobilenet_bleus_4)"
      ],
      "execution_count": null,
      "outputs": []
    },
    {
      "cell_type": "code",
      "metadata": {
        "id": "d7sehhqNbBLx",
        "colab_type": "code",
        "colab": {
          "base_uri": "https://localhost:8080/",
          "height": 458
        },
        "outputId": "e945560b-4afb-4a78-d22d-a8e11d67803b"
      },
      "source": [
        "#ResNet\n",
        "ckpt_manager,start_epoch,loss_plot,encoder,decoder,optimizer,loss_object = checkpoint4()\n",
        "resnet_model()\n",
        "dataset = load_dataset()\n",
        "model_train_step = get_train_step_fn()\n",
        "train_model(dataset,ckpt_manager,start_epoch,loss_plot,encoder,decoder,optimizer,loss_object,model_train_step)"
      ],
      "execution_count": null,
      "outputs": [
        {
          "output_type": "stream",
          "text": [
            "(16, 14, 14, 1024)\n"
          ],
          "name": "stdout"
        },
        {
          "output_type": "error",
          "ename": "KeyboardInterrupt",
          "evalue": "ignored",
          "traceback": [
            "\u001b[0;31m---------------------------------------------------------------------------\u001b[0m",
            "\u001b[0;31m_FallbackException\u001b[0m                        Traceback (most recent call last)",
            "\u001b[0;32m/usr/local/lib/python3.6/dist-packages/tensorflow/python/ops/gen_nn_ops.py\u001b[0m in \u001b[0;36mconv2d\u001b[0;34m(input, filter, strides, padding, use_cudnn_on_gpu, explicit_paddings, data_format, dilations, name)\u001b[0m\n\u001b[1;32m    925\u001b[0m         \u001b[0;34m\"explicit_paddings\"\u001b[0m\u001b[0;34m,\u001b[0m \u001b[0mexplicit_paddings\u001b[0m\u001b[0;34m,\u001b[0m \u001b[0;34m\"data_format\"\u001b[0m\u001b[0;34m,\u001b[0m \u001b[0mdata_format\u001b[0m\u001b[0;34m,\u001b[0m\u001b[0;34m\u001b[0m\u001b[0;34m\u001b[0m\u001b[0m\n\u001b[0;32m--> 926\u001b[0;31m         \"dilations\", dilations)\n\u001b[0m\u001b[1;32m    927\u001b[0m       \u001b[0;32mreturn\u001b[0m \u001b[0m_result\u001b[0m\u001b[0;34m\u001b[0m\u001b[0;34m\u001b[0m\u001b[0m\n",
            "\u001b[0;31m_FallbackException\u001b[0m: Expecting int64_t value for attr strides, got numpy.int32",
            "\nDuring handling of the above exception, another exception occurred:\n",
            "\u001b[0;31mKeyboardInterrupt\u001b[0m                         Traceback (most recent call last)",
            "\u001b[0;32m<ipython-input-54-09725d768ca2>\u001b[0m in \u001b[0;36m<module>\u001b[0;34m()\u001b[0m\n\u001b[1;32m      1\u001b[0m \u001b[0;31m#ResNet\u001b[0m\u001b[0;34m\u001b[0m\u001b[0;34m\u001b[0m\u001b[0;34m\u001b[0m\u001b[0m\n\u001b[1;32m      2\u001b[0m \u001b[0mckpt_manager\u001b[0m\u001b[0;34m,\u001b[0m\u001b[0mstart_epoch\u001b[0m\u001b[0;34m,\u001b[0m\u001b[0mloss_plot\u001b[0m\u001b[0;34m,\u001b[0m\u001b[0mencoder\u001b[0m\u001b[0;34m,\u001b[0m\u001b[0mdecoder\u001b[0m\u001b[0;34m,\u001b[0m\u001b[0moptimizer\u001b[0m\u001b[0;34m,\u001b[0m\u001b[0mloss_object\u001b[0m \u001b[0;34m=\u001b[0m \u001b[0mcheckpoint4\u001b[0m\u001b[0;34m(\u001b[0m\u001b[0;34m)\u001b[0m\u001b[0;34m\u001b[0m\u001b[0;34m\u001b[0m\u001b[0m\n\u001b[0;32m----> 3\u001b[0;31m \u001b[0mresnet_model\u001b[0m\u001b[0;34m(\u001b[0m\u001b[0;34m)\u001b[0m\u001b[0;34m\u001b[0m\u001b[0;34m\u001b[0m\u001b[0m\n\u001b[0m\u001b[1;32m      4\u001b[0m \u001b[0mdataset\u001b[0m \u001b[0;34m=\u001b[0m \u001b[0mload_dataset\u001b[0m\u001b[0;34m(\u001b[0m\u001b[0;34m)\u001b[0m\u001b[0;34m\u001b[0m\u001b[0;34m\u001b[0m\u001b[0m\n\u001b[1;32m      5\u001b[0m \u001b[0mmodel_train_step\u001b[0m \u001b[0;34m=\u001b[0m \u001b[0mget_train_step_fn\u001b[0m\u001b[0;34m(\u001b[0m\u001b[0;34m)\u001b[0m\u001b[0;34m\u001b[0m\u001b[0;34m\u001b[0m\u001b[0m\n",
            "\u001b[0;32m<ipython-input-18-62b43f89c70c>\u001b[0m in \u001b[0;36mresnet_model\u001b[0;34m()\u001b[0m\n\u001b[1;32m      7\u001b[0m   \u001b[0mfirst\u001b[0m \u001b[0;34m=\u001b[0m \u001b[0;32mFalse\u001b[0m\u001b[0;34m\u001b[0m\u001b[0;34m\u001b[0m\u001b[0m\n\u001b[1;32m      8\u001b[0m   \u001b[0;32mfor\u001b[0m \u001b[0mimg\u001b[0m\u001b[0;34m,\u001b[0m \u001b[0mpath\u001b[0m \u001b[0;32min\u001b[0m \u001b[0mimage_dataset_resnet\u001b[0m\u001b[0;34m:\u001b[0m\u001b[0;34m\u001b[0m\u001b[0;34m\u001b[0m\u001b[0m\n\u001b[0;32m----> 9\u001b[0;31m     \u001b[0mbatch_features_resnet\u001b[0m \u001b[0;34m=\u001b[0m \u001b[0mimage_features_extract_model_resnet\u001b[0m\u001b[0;34m(\u001b[0m\u001b[0mimg\u001b[0m\u001b[0;34m)\u001b[0m\u001b[0;34m\u001b[0m\u001b[0;34m\u001b[0m\u001b[0m\n\u001b[0m\u001b[1;32m     10\u001b[0m     \u001b[0;32mif\u001b[0m \u001b[0mfirst\u001b[0m\u001b[0;34m==\u001b[0m\u001b[0;32mFalse\u001b[0m\u001b[0;34m:\u001b[0m\u001b[0;34m\u001b[0m\u001b[0;34m\u001b[0m\u001b[0m\n\u001b[1;32m     11\u001b[0m       \u001b[0mprint\u001b[0m\u001b[0;34m(\u001b[0m\u001b[0mbatch_features_resnet\u001b[0m\u001b[0;34m.\u001b[0m\u001b[0mshape\u001b[0m\u001b[0;34m)\u001b[0m\u001b[0;34m\u001b[0m\u001b[0;34m\u001b[0m\u001b[0m\n",
            "\u001b[0;32m/usr/local/lib/python3.6/dist-packages/tensorflow/python/keras/engine/base_layer.py\u001b[0m in \u001b[0;36m__call__\u001b[0;34m(self, *args, **kwargs)\u001b[0m\n\u001b[1;32m    966\u001b[0m           with base_layer_utils.autocast_context_manager(\n\u001b[1;32m    967\u001b[0m               self._compute_dtype):\n\u001b[0;32m--> 968\u001b[0;31m             \u001b[0moutputs\u001b[0m \u001b[0;34m=\u001b[0m \u001b[0mself\u001b[0m\u001b[0;34m.\u001b[0m\u001b[0mcall\u001b[0m\u001b[0;34m(\u001b[0m\u001b[0mcast_inputs\u001b[0m\u001b[0;34m,\u001b[0m \u001b[0;34m*\u001b[0m\u001b[0margs\u001b[0m\u001b[0;34m,\u001b[0m \u001b[0;34m**\u001b[0m\u001b[0mkwargs\u001b[0m\u001b[0;34m)\u001b[0m\u001b[0;34m\u001b[0m\u001b[0;34m\u001b[0m\u001b[0m\n\u001b[0m\u001b[1;32m    969\u001b[0m           \u001b[0mself\u001b[0m\u001b[0;34m.\u001b[0m\u001b[0m_handle_activity_regularization\u001b[0m\u001b[0;34m(\u001b[0m\u001b[0minputs\u001b[0m\u001b[0;34m,\u001b[0m \u001b[0moutputs\u001b[0m\u001b[0;34m)\u001b[0m\u001b[0;34m\u001b[0m\u001b[0;34m\u001b[0m\u001b[0m\n\u001b[1;32m    970\u001b[0m           \u001b[0mself\u001b[0m\u001b[0;34m.\u001b[0m\u001b[0m_set_mask_metadata\u001b[0m\u001b[0;34m(\u001b[0m\u001b[0minputs\u001b[0m\u001b[0;34m,\u001b[0m \u001b[0moutputs\u001b[0m\u001b[0;34m,\u001b[0m \u001b[0minput_masks\u001b[0m\u001b[0;34m)\u001b[0m\u001b[0;34m\u001b[0m\u001b[0;34m\u001b[0m\u001b[0m\n",
            "\u001b[0;32m/usr/local/lib/python3.6/dist-packages/tensorflow/python/keras/engine/network.py\u001b[0m in \u001b[0;36mcall\u001b[0;34m(self, inputs, training, mask)\u001b[0m\n\u001b[1;32m    717\u001b[0m     return self._run_internal_graph(\n\u001b[1;32m    718\u001b[0m         \u001b[0minputs\u001b[0m\u001b[0;34m,\u001b[0m \u001b[0mtraining\u001b[0m\u001b[0;34m=\u001b[0m\u001b[0mtraining\u001b[0m\u001b[0;34m,\u001b[0m \u001b[0mmask\u001b[0m\u001b[0;34m=\u001b[0m\u001b[0mmask\u001b[0m\u001b[0;34m,\u001b[0m\u001b[0;34m\u001b[0m\u001b[0;34m\u001b[0m\u001b[0m\n\u001b[0;32m--> 719\u001b[0;31m         convert_kwargs_to_constants=base_layer_utils.call_context().saving)\n\u001b[0m\u001b[1;32m    720\u001b[0m \u001b[0;34m\u001b[0m\u001b[0m\n\u001b[1;32m    721\u001b[0m   \u001b[0;32mdef\u001b[0m \u001b[0mcompute_output_shape\u001b[0m\u001b[0;34m(\u001b[0m\u001b[0mself\u001b[0m\u001b[0;34m,\u001b[0m \u001b[0minput_shape\u001b[0m\u001b[0;34m)\u001b[0m\u001b[0;34m:\u001b[0m\u001b[0;34m\u001b[0m\u001b[0;34m\u001b[0m\u001b[0m\n",
            "\u001b[0;32m/usr/local/lib/python3.6/dist-packages/tensorflow/python/keras/engine/network.py\u001b[0m in \u001b[0;36m_run_internal_graph\u001b[0;34m(self, inputs, training, mask, convert_kwargs_to_constants)\u001b[0m\n\u001b[1;32m    886\u001b[0m \u001b[0;34m\u001b[0m\u001b[0m\n\u001b[1;32m    887\u001b[0m           \u001b[0;31m# Compute outputs.\u001b[0m\u001b[0;34m\u001b[0m\u001b[0;34m\u001b[0m\u001b[0;34m\u001b[0m\u001b[0m\n\u001b[0;32m--> 888\u001b[0;31m           \u001b[0moutput_tensors\u001b[0m \u001b[0;34m=\u001b[0m \u001b[0mlayer\u001b[0m\u001b[0;34m(\u001b[0m\u001b[0mcomputed_tensors\u001b[0m\u001b[0;34m,\u001b[0m \u001b[0;34m**\u001b[0m\u001b[0mkwargs\u001b[0m\u001b[0;34m)\u001b[0m\u001b[0;34m\u001b[0m\u001b[0;34m\u001b[0m\u001b[0m\n\u001b[0m\u001b[1;32m    889\u001b[0m \u001b[0;34m\u001b[0m\u001b[0m\n\u001b[1;32m    890\u001b[0m           \u001b[0;31m# Update tensor_dict.\u001b[0m\u001b[0;34m\u001b[0m\u001b[0;34m\u001b[0m\u001b[0;34m\u001b[0m\u001b[0m\n",
            "\u001b[0;32m/usr/local/lib/python3.6/dist-packages/tensorflow/python/keras/engine/base_layer.py\u001b[0m in \u001b[0;36m__call__\u001b[0;34m(self, *args, **kwargs)\u001b[0m\n\u001b[1;32m    966\u001b[0m           with base_layer_utils.autocast_context_manager(\n\u001b[1;32m    967\u001b[0m               self._compute_dtype):\n\u001b[0;32m--> 968\u001b[0;31m             \u001b[0moutputs\u001b[0m \u001b[0;34m=\u001b[0m \u001b[0mself\u001b[0m\u001b[0;34m.\u001b[0m\u001b[0mcall\u001b[0m\u001b[0;34m(\u001b[0m\u001b[0mcast_inputs\u001b[0m\u001b[0;34m,\u001b[0m \u001b[0;34m*\u001b[0m\u001b[0margs\u001b[0m\u001b[0;34m,\u001b[0m \u001b[0;34m**\u001b[0m\u001b[0mkwargs\u001b[0m\u001b[0;34m)\u001b[0m\u001b[0;34m\u001b[0m\u001b[0;34m\u001b[0m\u001b[0m\n\u001b[0m\u001b[1;32m    969\u001b[0m           \u001b[0mself\u001b[0m\u001b[0;34m.\u001b[0m\u001b[0m_handle_activity_regularization\u001b[0m\u001b[0;34m(\u001b[0m\u001b[0minputs\u001b[0m\u001b[0;34m,\u001b[0m \u001b[0moutputs\u001b[0m\u001b[0;34m)\u001b[0m\u001b[0;34m\u001b[0m\u001b[0;34m\u001b[0m\u001b[0m\n\u001b[1;32m    970\u001b[0m           \u001b[0mself\u001b[0m\u001b[0;34m.\u001b[0m\u001b[0m_set_mask_metadata\u001b[0m\u001b[0;34m(\u001b[0m\u001b[0minputs\u001b[0m\u001b[0;34m,\u001b[0m \u001b[0moutputs\u001b[0m\u001b[0;34m,\u001b[0m \u001b[0minput_masks\u001b[0m\u001b[0;34m)\u001b[0m\u001b[0;34m\u001b[0m\u001b[0;34m\u001b[0m\u001b[0m\n",
            "\u001b[0;32m/usr/local/lib/python3.6/dist-packages/tensorflow/python/keras/layers/convolutional.py\u001b[0m in \u001b[0;36mcall\u001b[0;34m(self, inputs)\u001b[0m\n\u001b[1;32m    205\u001b[0m       \u001b[0minputs\u001b[0m \u001b[0;34m=\u001b[0m \u001b[0marray_ops\u001b[0m\u001b[0;34m.\u001b[0m\u001b[0mpad\u001b[0m\u001b[0;34m(\u001b[0m\u001b[0minputs\u001b[0m\u001b[0;34m,\u001b[0m \u001b[0mself\u001b[0m\u001b[0;34m.\u001b[0m\u001b[0m_compute_causal_padding\u001b[0m\u001b[0;34m(\u001b[0m\u001b[0;34m)\u001b[0m\u001b[0;34m)\u001b[0m\u001b[0;34m\u001b[0m\u001b[0;34m\u001b[0m\u001b[0m\n\u001b[1;32m    206\u001b[0m \u001b[0;34m\u001b[0m\u001b[0m\n\u001b[0;32m--> 207\u001b[0;31m     \u001b[0moutputs\u001b[0m \u001b[0;34m=\u001b[0m \u001b[0mself\u001b[0m\u001b[0;34m.\u001b[0m\u001b[0m_convolution_op\u001b[0m\u001b[0;34m(\u001b[0m\u001b[0minputs\u001b[0m\u001b[0;34m,\u001b[0m \u001b[0mself\u001b[0m\u001b[0;34m.\u001b[0m\u001b[0mkernel\u001b[0m\u001b[0;34m)\u001b[0m\u001b[0;34m\u001b[0m\u001b[0;34m\u001b[0m\u001b[0m\n\u001b[0m\u001b[1;32m    208\u001b[0m \u001b[0;34m\u001b[0m\u001b[0m\n\u001b[1;32m    209\u001b[0m     \u001b[0;32mif\u001b[0m \u001b[0mself\u001b[0m\u001b[0;34m.\u001b[0m\u001b[0muse_bias\u001b[0m\u001b[0;34m:\u001b[0m\u001b[0;34m\u001b[0m\u001b[0;34m\u001b[0m\u001b[0m\n",
            "\u001b[0;32m/usr/local/lib/python3.6/dist-packages/tensorflow/python/ops/nn_ops.py\u001b[0m in \u001b[0;36m__call__\u001b[0;34m(self, inp, filter)\u001b[0m\n\u001b[1;32m   1104\u001b[0m           call_from_convolution=False)\n\u001b[1;32m   1105\u001b[0m     \u001b[0;32melse\u001b[0m\u001b[0;34m:\u001b[0m\u001b[0;34m\u001b[0m\u001b[0;34m\u001b[0m\u001b[0m\n\u001b[0;32m-> 1106\u001b[0;31m       \u001b[0;32mreturn\u001b[0m \u001b[0mself\u001b[0m\u001b[0;34m.\u001b[0m\u001b[0mconv_op\u001b[0m\u001b[0;34m(\u001b[0m\u001b[0minp\u001b[0m\u001b[0;34m,\u001b[0m \u001b[0mfilter\u001b[0m\u001b[0;34m)\u001b[0m\u001b[0;34m\u001b[0m\u001b[0;34m\u001b[0m\u001b[0m\n\u001b[0m\u001b[1;32m   1107\u001b[0m \u001b[0;34m\u001b[0m\u001b[0m\n\u001b[1;32m   1108\u001b[0m \u001b[0;34m\u001b[0m\u001b[0m\n",
            "\u001b[0;32m/usr/local/lib/python3.6/dist-packages/tensorflow/python/ops/nn_ops.py\u001b[0m in \u001b[0;36m__call__\u001b[0;34m(self, inp, filter)\u001b[0m\n\u001b[1;32m    636\u001b[0m \u001b[0;34m\u001b[0m\u001b[0m\n\u001b[1;32m    637\u001b[0m   \u001b[0;32mdef\u001b[0m \u001b[0m__call__\u001b[0m\u001b[0;34m(\u001b[0m\u001b[0mself\u001b[0m\u001b[0;34m,\u001b[0m \u001b[0minp\u001b[0m\u001b[0;34m,\u001b[0m \u001b[0mfilter\u001b[0m\u001b[0;34m)\u001b[0m\u001b[0;34m:\u001b[0m  \u001b[0;31m# pylint: disable=redefined-builtin\u001b[0m\u001b[0;34m\u001b[0m\u001b[0;34m\u001b[0m\u001b[0m\n\u001b[0;32m--> 638\u001b[0;31m     \u001b[0;32mreturn\u001b[0m \u001b[0mself\u001b[0m\u001b[0;34m.\u001b[0m\u001b[0mcall\u001b[0m\u001b[0;34m(\u001b[0m\u001b[0minp\u001b[0m\u001b[0;34m,\u001b[0m \u001b[0mfilter\u001b[0m\u001b[0;34m)\u001b[0m\u001b[0;34m\u001b[0m\u001b[0;34m\u001b[0m\u001b[0m\n\u001b[0m\u001b[1;32m    639\u001b[0m \u001b[0;34m\u001b[0m\u001b[0m\n\u001b[1;32m    640\u001b[0m \u001b[0;34m\u001b[0m\u001b[0m\n",
            "\u001b[0;32m/usr/local/lib/python3.6/dist-packages/tensorflow/python/ops/nn_ops.py\u001b[0m in \u001b[0;36m__call__\u001b[0;34m(self, inp, filter)\u001b[0m\n\u001b[1;32m    235\u001b[0m         \u001b[0mpadding\u001b[0m\u001b[0;34m=\u001b[0m\u001b[0mself\u001b[0m\u001b[0;34m.\u001b[0m\u001b[0mpadding\u001b[0m\u001b[0;34m,\u001b[0m\u001b[0;34m\u001b[0m\u001b[0;34m\u001b[0m\u001b[0m\n\u001b[1;32m    236\u001b[0m         \u001b[0mdata_format\u001b[0m\u001b[0;34m=\u001b[0m\u001b[0mself\u001b[0m\u001b[0;34m.\u001b[0m\u001b[0mdata_format\u001b[0m\u001b[0;34m,\u001b[0m\u001b[0;34m\u001b[0m\u001b[0;34m\u001b[0m\u001b[0m\n\u001b[0;32m--> 237\u001b[0;31m         name=self.name)\n\u001b[0m\u001b[1;32m    238\u001b[0m \u001b[0;34m\u001b[0m\u001b[0m\n\u001b[1;32m    239\u001b[0m \u001b[0;34m\u001b[0m\u001b[0m\n",
            "\u001b[0;32m/usr/local/lib/python3.6/dist-packages/tensorflow/python/ops/nn_ops.py\u001b[0m in \u001b[0;36mconv2d\u001b[0;34m(input, filter, strides, padding, use_cudnn_on_gpu, data_format, dilations, name, filters)\u001b[0m\n\u001b[1;32m   2012\u001b[0m                            \u001b[0mdata_format\u001b[0m\u001b[0;34m=\u001b[0m\u001b[0mdata_format\u001b[0m\u001b[0;34m,\u001b[0m\u001b[0;34m\u001b[0m\u001b[0;34m\u001b[0m\u001b[0m\n\u001b[1;32m   2013\u001b[0m                            \u001b[0mdilations\u001b[0m\u001b[0;34m=\u001b[0m\u001b[0mdilations\u001b[0m\u001b[0;34m,\u001b[0m\u001b[0;34m\u001b[0m\u001b[0;34m\u001b[0m\u001b[0m\n\u001b[0;32m-> 2014\u001b[0;31m                            name=name)\n\u001b[0m\u001b[1;32m   2015\u001b[0m \u001b[0;34m\u001b[0m\u001b[0m\n\u001b[1;32m   2016\u001b[0m \u001b[0;34m\u001b[0m\u001b[0m\n",
            "\u001b[0;32m/usr/local/lib/python3.6/dist-packages/tensorflow/python/ops/gen_nn_ops.py\u001b[0m in \u001b[0;36mconv2d\u001b[0;34m(input, filter, strides, padding, use_cudnn_on_gpu, explicit_paddings, data_format, dilations, name)\u001b[0m\n\u001b[1;32m    931\u001b[0m             \u001b[0minput\u001b[0m\u001b[0;34m,\u001b[0m \u001b[0mfilter\u001b[0m\u001b[0;34m,\u001b[0m \u001b[0mstrides\u001b[0m\u001b[0;34m=\u001b[0m\u001b[0mstrides\u001b[0m\u001b[0;34m,\u001b[0m \u001b[0muse_cudnn_on_gpu\u001b[0m\u001b[0;34m=\u001b[0m\u001b[0muse_cudnn_on_gpu\u001b[0m\u001b[0;34m,\u001b[0m\u001b[0;34m\u001b[0m\u001b[0;34m\u001b[0m\u001b[0m\n\u001b[1;32m    932\u001b[0m             \u001b[0mpadding\u001b[0m\u001b[0;34m=\u001b[0m\u001b[0mpadding\u001b[0m\u001b[0;34m,\u001b[0m \u001b[0mexplicit_paddings\u001b[0m\u001b[0;34m=\u001b[0m\u001b[0mexplicit_paddings\u001b[0m\u001b[0;34m,\u001b[0m\u001b[0;34m\u001b[0m\u001b[0;34m\u001b[0m\u001b[0m\n\u001b[0;32m--> 933\u001b[0;31m             data_format=data_format, dilations=dilations, name=name, ctx=_ctx)\n\u001b[0m\u001b[1;32m    934\u001b[0m       \u001b[0;32mexcept\u001b[0m \u001b[0m_core\u001b[0m\u001b[0;34m.\u001b[0m\u001b[0m_SymbolicException\u001b[0m\u001b[0;34m:\u001b[0m\u001b[0;34m\u001b[0m\u001b[0;34m\u001b[0m\u001b[0m\n\u001b[1;32m    935\u001b[0m         \u001b[0;32mpass\u001b[0m  \u001b[0;31m# Add nodes to the TensorFlow graph.\u001b[0m\u001b[0;34m\u001b[0m\u001b[0;34m\u001b[0m\u001b[0m\n",
            "\u001b[0;32m/usr/local/lib/python3.6/dist-packages/tensorflow/python/ops/gen_nn_ops.py\u001b[0m in \u001b[0;36mconv2d_eager_fallback\u001b[0;34m(input, filter, strides, padding, use_cudnn_on_gpu, explicit_paddings, data_format, dilations, name, ctx)\u001b[0m\n\u001b[1;32m   1020\u001b[0m   explicit_paddings, \"data_format\", data_format, \"dilations\", dilations)\n\u001b[1;32m   1021\u001b[0m   _result = _execute.execute(b\"Conv2D\", 1, inputs=_inputs_flat, attrs=_attrs,\n\u001b[0;32m-> 1022\u001b[0;31m                              ctx=ctx, name=name)\n\u001b[0m\u001b[1;32m   1023\u001b[0m   \u001b[0;32mif\u001b[0m \u001b[0m_execute\u001b[0m\u001b[0;34m.\u001b[0m\u001b[0mmust_record_gradient\u001b[0m\u001b[0;34m(\u001b[0m\u001b[0;34m)\u001b[0m\u001b[0;34m:\u001b[0m\u001b[0;34m\u001b[0m\u001b[0;34m\u001b[0m\u001b[0m\n\u001b[1;32m   1024\u001b[0m     _execute.record_gradient(\n",
            "\u001b[0;32m/usr/local/lib/python3.6/dist-packages/tensorflow/python/eager/execute.py\u001b[0m in \u001b[0;36mquick_execute\u001b[0;34m(op_name, num_outputs, inputs, attrs, ctx, name)\u001b[0m\n\u001b[1;32m     58\u001b[0m     \u001b[0mctx\u001b[0m\u001b[0;34m.\u001b[0m\u001b[0mensure_initialized\u001b[0m\u001b[0;34m(\u001b[0m\u001b[0;34m)\u001b[0m\u001b[0;34m\u001b[0m\u001b[0;34m\u001b[0m\u001b[0m\n\u001b[1;32m     59\u001b[0m     tensors = pywrap_tfe.TFE_Py_Execute(ctx._handle, device_name, op_name,\n\u001b[0;32m---> 60\u001b[0;31m                                         inputs, attrs, num_outputs)\n\u001b[0m\u001b[1;32m     61\u001b[0m   \u001b[0;32mexcept\u001b[0m \u001b[0mcore\u001b[0m\u001b[0;34m.\u001b[0m\u001b[0m_NotOkStatusException\u001b[0m \u001b[0;32mas\u001b[0m \u001b[0me\u001b[0m\u001b[0;34m:\u001b[0m\u001b[0;34m\u001b[0m\u001b[0;34m\u001b[0m\u001b[0m\n\u001b[1;32m     62\u001b[0m     \u001b[0;32mif\u001b[0m \u001b[0mname\u001b[0m \u001b[0;32mis\u001b[0m \u001b[0;32mnot\u001b[0m \u001b[0;32mNone\u001b[0m\u001b[0;34m:\u001b[0m\u001b[0;34m\u001b[0m\u001b[0;34m\u001b[0m\u001b[0m\n",
            "\u001b[0;31mKeyboardInterrupt\u001b[0m: "
          ]
        }
      ]
    },
    {
      "cell_type": "code",
      "metadata": {
        "id": "Pe2oCithuXGv",
        "colab_type": "code",
        "colab": {}
      },
      "source": [
        "result, attention_plot = evaluate_resnet(image,encoder,decoder)\n",
        "print(\"ResNet\\n\")\n",
        "print ('Real Caption:', real_caption)\n",
        "print ('Prediction Caption:', ' '.join(result))\n",
        "plot_attention(image, result, attention_plot)\n",
        "BLEUscore = nltk.translate.bleu_score.sentence_bleu([real_caption], ' '.join(result))\n",
        "print(BLEUscore)\n",
        "\n",
        "resnet_bleus,resnet_bleus_1,resnet_bleus_2,resnet_bleus_3,resnet_bleus_4 = bleu_accuracy_resnet(encoder,decoder)"
      ],
      "execution_count": null,
      "outputs": []
    },
    {
      "cell_type": "code",
      "metadata": {
        "id": "AfW6IUhCn9cV",
        "colab_type": "code",
        "colab": {}
      },
      "source": [
        "print(\"\\nResNet Accuracy: \")\n",
        "print_bleu_score(resnet_bleus,resnet_bleus_1,resnet_bleus_2,resnet_bleus_3,resnet_bleus_4)"
      ],
      "execution_count": null,
      "outputs": []
    },
    {
      "cell_type": "code",
      "metadata": {
        "id": "bt7pgHu8bBh6",
        "colab_type": "code",
        "colab": {}
      },
      "source": [
        "#VGG\n",
        "ckpt_manager,start_epoch,loss_plot,encoder,decoder,optimizer,loss_object = checkpoint2()\n",
        "vgg_model()\n",
        "dataset = load_dataset()\n",
        "model_train_step = get_train_step_fn()\n",
        "train_model(dataset,ckpt_manager,start_epoch,loss_plot,encoder,decoder,optimizer,loss_object,model_train_step)"
      ],
      "execution_count": null,
      "outputs": []
    },
    {
      "cell_type": "code",
      "metadata": {
        "id": "4AsMtH0Duaa9",
        "colab_type": "code",
        "colab": {}
      },
      "source": [
        "result, attention_plot = evaluate_vgg(image,encoder,decoder)\n",
        "print(\"VGG\\n\")\n",
        "print ('Real Caption:', real_caption)\n",
        "print ('Prediction Caption:', ' '.join(result))\n",
        "plot_attention(image, result, attention_plot)\n",
        "BLEUscore = nltk.translate.bleu_score.sentence_bleu([real_caption], ' '.join(result))\n",
        "print(BLEUscore)\n",
        "vgg_bleus,vgg_bleus_1,vgg_bleus_2,vgg_bleus_3,vgg_bleus_4 = bleu_accuracy_vgg(encoder,decoder)"
      ],
      "execution_count": null,
      "outputs": []
    },
    {
      "cell_type": "code",
      "metadata": {
        "id": "XW9nyAK-ZeQ5",
        "colab_type": "code",
        "colab": {}
      },
      "source": [
        "print(\"\\nVGG Accuracy: \")\n",
        "print_bleu_score(vgg_bleus,vgg_bleus_1,vgg_bleus_2,vgg_bleus_3,vgg_bleus_4)"
      ],
      "execution_count": null,
      "outputs": []
    },
    {
      "cell_type": "markdown",
      "metadata": {
        "colab_type": "text",
        "id": "Rprk3HEvZuxb"
      },
      "source": [
        "## Try it on your own images\n",
        "For fun, below we've provided a method you can use to caption your own images with the model we've just trained. Keep in mind, it was trained on a relatively small amount of data, and your images may be different from the training data (so be prepared for weird results!)\n"
      ]
    },
    {
      "cell_type": "code",
      "metadata": {
        "colab_type": "code",
        "id": "9Psd1quzaAWg",
        "colab": {}
      },
      "source": [
        "\"\"\"\n",
        "ckpt_manager,start_epoch,loss_plot,encoder,decoder,optimizer,loss_object = checkpoint2()\n",
        "image_url = 'https://tensorflow.org/images/surf.jpg'\n",
        "image_extension = image_url[-4:]\n",
        "image_path = tf.keras.utils.get_file('image'+image_extension,\n",
        "                                     origin=image_url)\n",
        "\n",
        "\n",
        "result, attention_plot = evaluate_vgg(image_path,encoder,decoder)\n",
        "print ('Prediction Caption:', ' '.join(result))\n",
        "plot_attention(image_path, result, attention_plot)\n",
        "\n",
        "# opening the image\n",
        "Image.open(image_path)\n",
        "\"\"\""
      ],
      "execution_count": null,
      "outputs": []
    },
    {
      "cell_type": "markdown",
      "metadata": {
        "colab_type": "text",
        "id": "VJZXyJco6uLO"
      },
      "source": [
        "# Next steps\n",
        "\n",
        "Congrats! You've just trained an image captioning model with attention. Next, take a look at this example [Neural Machine Translation with Attention](../sequences/nmt_with_attention.ipynb). It uses a similar architecture to translate between Spanish and English sentences. You can also experiment with training the code in this notebook on a different dataset."
      ]
    }
  ]
}